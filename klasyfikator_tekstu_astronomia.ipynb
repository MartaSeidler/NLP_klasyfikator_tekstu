{
 "cells": [
  {
   "cell_type": "code",
   "execution_count": 2,
   "metadata": {},
   "outputs": [],
   "source": [
    "import os \n",
    "import pandas as pd\n",
    "from sklearn.feature_extraction.text import TfidfVectorizer \n",
    "from sklearn.model_selection import train_test_split\n",
    "from sklearn.linear_model import LogisticRegression\n",
    "from sklearn.naive_bayes import MultinomialNB\n",
    "from sklearn.metrics import accuracy_score, classification_report\n",
    "import nltk\n",
    "from nltk.corpus import stopwords \n",
    "import string "
   ]
  },
  {
   "cell_type": "code",
   "execution_count": 3,
   "metadata": {},
   "outputs": [],
   "source": [
    "def read_files(folder_path, label):\n",
    "    texts = []\n",
    "    for filename in os.listdir(folder_path):\n",
    "        file_path = os.path.join(folder_path, filename)\n",
    "        if os.path.isfile(file_path):\n",
    "            with open(file_path, 'r', encoding='utf-8') as file:\n",
    "                texts.append(file.read())\n",
    "    return texts, [label] * len(texts) \n",
    "\n",
    "astronomy_folder = 'dane/astronomia'\n",
    "others_folder = 'dane/inne'\n",
    "\n",
    "astronomy_texts, astronomy_labels = read_files(astronomy_folder, 'astronomia')\n",
    "others_texts, others_labels = read_files(others_folder, 'inne')"
   ]
  },
  {
   "cell_type": "code",
   "execution_count": 4,
   "metadata": {},
   "outputs": [
    {
     "name": "stdout",
     "output_type": "stream",
     "text": [
      "Dane zapisane.\n"
     ]
    }
   ],
   "source": [
    "texts = astronomy_texts + others_texts\n",
    "labels = astronomy_labels + others_labels\n",
    "\n",
    "data = {'text': texts, 'label':labels}\n",
    "df = pd.DataFrame(data)\n",
    "\n",
    "df.to_csv('dane_zbiorcze.csv', index=False)\n",
    "print('Dane zapisane.')"
   ]
  },
  {
   "cell_type": "code",
   "execution_count": 5,
   "metadata": {},
   "outputs": [
    {
     "data": {
      "text/html": [
       "<div>\n",
       "<style scoped>\n",
       "    .dataframe tbody tr th:only-of-type {\n",
       "        vertical-align: middle;\n",
       "    }\n",
       "\n",
       "    .dataframe tbody tr th {\n",
       "        vertical-align: top;\n",
       "    }\n",
       "\n",
       "    .dataframe thead th {\n",
       "        text-align: right;\n",
       "    }\n",
       "</style>\n",
       "<table border=\"1\" class=\"dataframe\">\n",
       "  <thead>\n",
       "    <tr style=\"text-align: right;\">\n",
       "      <th></th>\n",
       "      <th>text</th>\n",
       "      <th>label</th>\n",
       "    </tr>\n",
       "  </thead>\n",
       "  <tbody>\n",
       "    <tr>\n",
       "      <th>222</th>\n",
       "      <td>Teologia (gr. θεος, theos, „Bóg”, + λογος, log...</td>\n",
       "      <td>inne</td>\n",
       "    </tr>\n",
       "    <tr>\n",
       "      <th>239</th>\n",
       "      <td>Symbioza (łac. z gr. sym- 'współ-' i gr. bíos ...</td>\n",
       "      <td>inne</td>\n",
       "    </tr>\n",
       "    <tr>\n",
       "      <th>20</th>\n",
       "      <td>Landsat 5 - satelita obserwacji Ziemi będący c...</td>\n",
       "      <td>astronomia</td>\n",
       "    </tr>\n",
       "    <tr>\n",
       "      <th>45</th>\n",
       "      <td>STS-5 (ang. \"Space Transportation System\") - p...</td>\n",
       "      <td>astronomia</td>\n",
       "    </tr>\n",
       "    <tr>\n",
       "      <th>75</th>\n",
       "      <td>Stefan L. Piotrowski (ur. 11 kwietnia 1910 w K...</td>\n",
       "      <td>astronomia</td>\n",
       "    </tr>\n",
       "    <tr>\n",
       "      <th>203</th>\n",
       "      <td>Marzena Kipiel-Sztuka (ur. 19 października 196...</td>\n",
       "      <td>inne</td>\n",
       "    </tr>\n",
       "    <tr>\n",
       "      <th>116</th>\n",
       "      <td>Io (\"Jowisz I\") - trzeci co do wielkości księż...</td>\n",
       "      <td>astronomia</td>\n",
       "    </tr>\n",
       "    <tr>\n",
       "      <th>94</th>\n",
       "      <td>(88) Thisbe - planetoida z pasa głównego plane...</td>\n",
       "      <td>astronomia</td>\n",
       "    </tr>\n",
       "    <tr>\n",
       "      <th>244</th>\n",
       "      <td>National Collegiate Athletic Association (Naro...</td>\n",
       "      <td>inne</td>\n",
       "    </tr>\n",
       "    <tr>\n",
       "      <th>50</th>\n",
       "      <td>Jupiter Icy Moons Orbiter (JIMO) - anulowana m...</td>\n",
       "      <td>astronomia</td>\n",
       "    </tr>\n",
       "  </tbody>\n",
       "</table>\n",
       "</div>"
      ],
      "text/plain": [
       "                                                  text       label\n",
       "222  Teologia (gr. θεος, theos, „Bóg”, + λογος, log...        inne\n",
       "239  Symbioza (łac. z gr. sym- 'współ-' i gr. bíos ...        inne\n",
       "20   Landsat 5 - satelita obserwacji Ziemi będący c...  astronomia\n",
       "45   STS-5 (ang. \"Space Transportation System\") - p...  astronomia\n",
       "75   Stefan L. Piotrowski (ur. 11 kwietnia 1910 w K...  astronomia\n",
       "203  Marzena Kipiel-Sztuka (ur. 19 października 196...        inne\n",
       "116  Io (\"Jowisz I\") - trzeci co do wielkości księż...  astronomia\n",
       "94   (88) Thisbe - planetoida z pasa głównego plane...  astronomia\n",
       "244  National Collegiate Athletic Association (Naro...        inne\n",
       "50   Jupiter Icy Moons Orbiter (JIMO) - anulowana m...  astronomia"
      ]
     },
     "execution_count": 5,
     "metadata": {},
     "output_type": "execute_result"
    }
   ],
   "source": [
    "df.sample(10)"
   ]
  },
  {
   "cell_type": "code",
   "execution_count": 6,
   "metadata": {},
   "outputs": [],
   "source": [
    "def load_stopwords(file_path):\n",
    "    with open(file_path, 'r', encoding='utf-8') as file:\n",
    "        stopwords = file.read().splitlines()\n",
    "    return set(stopwords)\n",
    "\n",
    "stopwords_file = 'polish_stopwords.txt'\n",
    "\n",
    "polish_stopwords = load_stopwords(stopwords_file)\n",
    "\n",
    "def preprocess_text(text):\n",
    "    text = text.lower()\n",
    "    text = ''.join([char for char in text if char not in string.punctuation])\n",
    "    words = text.split()\n",
    "    words = [word for word in words if word not in polish_stopwords]\n",
    "    return ' '.join(words)\n",
    "\n",
    "df['text'] = df['text'].apply(preprocess_text)"
   ]
  },
  {
   "cell_type": "code",
   "execution_count": 7,
   "metadata": {},
   "outputs": [
    {
     "data": {
      "text/html": [
       "<div>\n",
       "<style scoped>\n",
       "    .dataframe tbody tr th:only-of-type {\n",
       "        vertical-align: middle;\n",
       "    }\n",
       "\n",
       "    .dataframe tbody tr th {\n",
       "        vertical-align: top;\n",
       "    }\n",
       "\n",
       "    .dataframe thead th {\n",
       "        text-align: right;\n",
       "    }\n",
       "</style>\n",
       "<table border=\"1\" class=\"dataframe\">\n",
       "  <thead>\n",
       "    <tr style=\"text-align: right;\">\n",
       "      <th></th>\n",
       "      <th>text</th>\n",
       "      <th>label</th>\n",
       "    </tr>\n",
       "  </thead>\n",
       "  <tbody>\n",
       "    <tr>\n",
       "      <th>114</th>\n",
       "      <td>messier 5 znana m5 ngc 5904 gromada kulista po...</td>\n",
       "      <td>astronomia</td>\n",
       "    </tr>\n",
       "    <tr>\n",
       "      <th>191</th>\n",
       "      <td>dzbanecznik nepenthes l – rodzaj roślin mięsoż...</td>\n",
       "      <td>inne</td>\n",
       "    </tr>\n",
       "    <tr>\n",
       "      <th>232</th>\n",
       "      <td>beletrystyka fr belleslettres – literatura pię...</td>\n",
       "      <td>inne</td>\n",
       "    </tr>\n",
       "    <tr>\n",
       "      <th>120</th>\n",
       "      <td>skylab 4 trzecia ostatnia załoga bazy satelita...</td>\n",
       "      <td>astronomia</td>\n",
       "    </tr>\n",
       "    <tr>\n",
       "      <th>208</th>\n",
       "      <td>dramat satyrowy – starożytna grecka odmiana ko...</td>\n",
       "      <td>inne</td>\n",
       "    </tr>\n",
       "  </tbody>\n",
       "</table>\n",
       "</div>"
      ],
      "text/plain": [
       "                                                  text       label\n",
       "114  messier 5 znana m5 ngc 5904 gromada kulista po...  astronomia\n",
       "191  dzbanecznik nepenthes l – rodzaj roślin mięsoż...        inne\n",
       "232  beletrystyka fr belleslettres – literatura pię...        inne\n",
       "120  skylab 4 trzecia ostatnia załoga bazy satelita...  astronomia\n",
       "208  dramat satyrowy – starożytna grecka odmiana ko...        inne"
      ]
     },
     "execution_count": 7,
     "metadata": {},
     "output_type": "execute_result"
    }
   ],
   "source": [
    "df.sample(5)"
   ]
  },
  {
   "cell_type": "code",
   "execution_count": 8,
   "metadata": {},
   "outputs": [],
   "source": [
    "X_train, X_test, y_train, y_test = train_test_split(df['text'], df['label'], test_size=0.2, random_state=42)"
   ]
  },
  {
   "cell_type": "code",
   "execution_count": 9,
   "metadata": {},
   "outputs": [
    {
     "name": "stdout",
     "output_type": "stream",
     "text": [
      "X_train shape:  (224,)\n",
      "X_test shape:  (56,)\n",
      "y_train shape:  (224,)\n",
      "y_test shape:  (56,)\n"
     ]
    }
   ],
   "source": [
    "print(\"X_train shape: \", X_train.shape)\n",
    "print(\"X_test shape: \", X_test.shape)\n",
    "print(\"y_train shape: \", y_train.shape)\n",
    "print(\"y_test shape: \", y_test.shape)"
   ]
  },
  {
   "cell_type": "code",
   "execution_count": 11,
   "metadata": {},
   "outputs": [],
   "source": [
    "vectorizer = TfidfVectorizer()\n",
    "X_train_vec = vectorizer.fit_transform(X_train)\n",
    "X_test_vec = vectorizer.transform(X_test)"
   ]
  },
  {
   "cell_type": "code",
   "execution_count": 12,
   "metadata": {},
   "outputs": [
    {
     "name": "stdout",
     "output_type": "stream",
     "text": [
      "NB Accuracy: 0.8214285714285714\n",
      "NB Classification Report:\n",
      "               precision    recall  f1-score   support\n",
      "\n",
      "  astronomia       0.75      0.96      0.84        28\n",
      "        inne       0.95      0.68      0.79        28\n",
      "\n",
      "    accuracy                           0.82        56\n",
      "   macro avg       0.85      0.82      0.82        56\n",
      "weighted avg       0.85      0.82      0.82        56\n",
      "\n"
     ]
    }
   ],
   "source": [
    "model_NB = MultinomialNB()\n",
    "model_NB.fit(X_train_vec, y_train)\n",
    "\n",
    "y_pred_NB = model_NB.predict(X_test_vec)\n",
    "print('NB Accuracy:', accuracy_score(y_test, y_pred_NB))\n",
    "print('NB Classification Report:\\n', classification_report(y_test, y_pred_NB))"
   ]
  },
  {
   "cell_type": "code",
   "execution_count": 13,
   "metadata": {},
   "outputs": [
    {
     "name": "stdout",
     "output_type": "stream",
     "text": [
      "LR Accuracy: 0.9464285714285714\n",
      "LR Classification Report:\n",
      "               precision    recall  f1-score   support\n",
      "\n",
      "  astronomia       1.00      0.89      0.94        28\n",
      "        inne       0.90      1.00      0.95        28\n",
      "\n",
      "    accuracy                           0.95        56\n",
      "   macro avg       0.95      0.95      0.95        56\n",
      "weighted avg       0.95      0.95      0.95        56\n",
      "\n"
     ]
    }
   ],
   "source": [
    "model_LR = LogisticRegression()\n",
    "model_LR.fit(X_train_vec, y_train)\n",
    "\n",
    "y_pred_LR = model_LR.predict(X_test_vec)\n",
    "print('LR Accuracy:', accuracy_score(y_test, y_pred_LR))\n",
    "print('LR Classification Report:\\n', classification_report(y_test, y_pred_LR))"
   ]
  },
  {
   "cell_type": "code",
   "execution_count": 17,
   "metadata": {},
   "outputs": [
    {
     "data": {
      "text/plain": [
       "array(['astronomia', 'astronomia', 'inne', 'inne', 'inne', 'astronomia',\n",
       "       'inne', 'inne', 'inne', 'inne'], dtype=object)"
      ]
     },
     "execution_count": 17,
     "metadata": {},
     "output_type": "execute_result"
    }
   ],
   "source": [
    "y_pred_LR[0:10]"
   ]
  },
  {
   "cell_type": "code",
   "execution_count": 20,
   "metadata": {},
   "outputs": [
    {
     "data": {
      "text/plain": [
       "33     korona południowa łac corona australis dop cor...\n",
       "108    planetozymal planetezymal małe ciało niebieski...\n",
       "240    mykoryza12 mikoryza345a mycorrhiza – powszechn...\n",
       "259    hollywood boulevard – ulica hollywood los ange...\n",
       "154    liczba stopni swobody df ang degrees of freedo...\n",
       "Name: text, dtype: object"
      ]
     },
     "execution_count": 20,
     "metadata": {},
     "output_type": "execute_result"
    }
   ],
   "source": [
    "X_test.head()"
   ]
  },
  {
   "cell_type": "code",
   "execution_count": 24,
   "metadata": {},
   "outputs": [
    {
     "data": {
      "text/html": [
       "<div>\n",
       "<style scoped>\n",
       "    .dataframe tbody tr th:only-of-type {\n",
       "        vertical-align: middle;\n",
       "    }\n",
       "\n",
       "    .dataframe tbody tr th {\n",
       "        vertical-align: top;\n",
       "    }\n",
       "\n",
       "    .dataframe thead th {\n",
       "        text-align: right;\n",
       "    }\n",
       "</style>\n",
       "<table border=\"1\" class=\"dataframe\">\n",
       "  <thead>\n",
       "    <tr style=\"text-align: right;\">\n",
       "      <th></th>\n",
       "      <th>text</th>\n",
       "      <th>label</th>\n",
       "    </tr>\n",
       "  </thead>\n",
       "  <tbody>\n",
       "    <tr>\n",
       "      <th>0</th>\n",
       "      <td>korona południowa łac corona australis dop cor...</td>\n",
       "      <td>astronomia</td>\n",
       "    </tr>\n",
       "    <tr>\n",
       "      <th>1</th>\n",
       "      <td>planetozymal planetezymal małe ciało niebieski...</td>\n",
       "      <td>astronomia</td>\n",
       "    </tr>\n",
       "    <tr>\n",
       "      <th>2</th>\n",
       "      <td>mykoryza12 mikoryza345a mycorrhiza – powszechn...</td>\n",
       "      <td>inne</td>\n",
       "    </tr>\n",
       "    <tr>\n",
       "      <th>3</th>\n",
       "      <td>hollywood boulevard – ulica hollywood los ange...</td>\n",
       "      <td>inne</td>\n",
       "    </tr>\n",
       "    <tr>\n",
       "      <th>4</th>\n",
       "      <td>liczba stopni swobody df ang degrees of freedo...</td>\n",
       "      <td>inne</td>\n",
       "    </tr>\n",
       "  </tbody>\n",
       "</table>\n",
       "</div>"
      ],
      "text/plain": [
       "                                                text       label\n",
       "0  korona południowa łac corona australis dop cor...  astronomia\n",
       "1  planetozymal planetezymal małe ciało niebieski...  astronomia\n",
       "2  mykoryza12 mikoryza345a mycorrhiza – powszechn...        inne\n",
       "3  hollywood boulevard – ulica hollywood los ange...        inne\n",
       "4  liczba stopni swobody df ang degrees of freedo...        inne"
      ]
     },
     "execution_count": 24,
     "metadata": {},
     "output_type": "execute_result"
    }
   ],
   "source": [
    "y_pred_LR_df = pd.DataFrame(y_pred_LR, columns=['label'])\n",
    "\n",
    "new_df = pd.concat([X_test.reset_index(drop=True), y_pred_LR_df], axis=1)\n",
    "new_df.head()"
   ]
  },
  {
   "cell_type": "code",
   "execution_count": 26,
   "metadata": {},
   "outputs": [
    {
     "name": "stdout",
     "output_type": "stream",
     "text": [
      "Dane zapisane do plików.\n"
     ]
    }
   ],
   "source": [
    "pred_astronomy_folder = 'predict/astronomia' \n",
    "pred_others_folder = 'predict/inne'\n",
    "\n",
    "os.makedirs(pred_astronomy_folder, exist_ok=True)\n",
    "os.makedirs(pred_others_folder, exist_ok=True)\n",
    "\n",
    "def save_text_to_file(text, label, index):\n",
    "    if label == 'astronomia':\n",
    "        folder_path = pred_astronomy_folder\n",
    "    else:\n",
    "        folder_path = pred_others_folder\n",
    "\n",
    "    file_path = os.path.join(folder_path, f'text_{index}.txt')\n",
    "\n",
    "    with open(file_path, 'w', encoding='utf-8') as file:\n",
    "        file.write(text)\n",
    "\n",
    "\n",
    "for index, row in new_df.iterrows():\n",
    "    save_text_to_file(row['text'], row['label'], index)\n",
    "\n",
    "print('Dane zapisane do plików.')"
   ]
  }
 ],
 "metadata": {
  "kernelspec": {
   "display_name": "Python 3",
   "language": "python",
   "name": "python3"
  },
  "language_info": {
   "codemirror_mode": {
    "name": "ipython",
    "version": 3
   },
   "file_extension": ".py",
   "mimetype": "text/x-python",
   "name": "python",
   "nbconvert_exporter": "python",
   "pygments_lexer": "ipython3",
   "version": "3.12.3"
  }
 },
 "nbformat": 4,
 "nbformat_minor": 2
}
