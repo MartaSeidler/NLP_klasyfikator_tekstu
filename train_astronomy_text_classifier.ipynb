{
 "cells": [
  {
   "cell_type": "markdown",
   "metadata": {},
   "source": [
    "Importing libraries:\n",
    "- os - for reading and saving files\n",
    "- pandas - for working with dataset\n",
    "- scikit-learn - for machine learning\n",
    "- string - for removing punctuation\n",
    "- joblib - for saving model and vectorizer"
   ]
  },
  {
   "cell_type": "code",
   "execution_count": 1,
   "metadata": {},
   "outputs": [],
   "source": [
    "import os \n",
    "import pandas as pd\n",
    "from sklearn.feature_extraction.text import TfidfVectorizer \n",
    "from sklearn.model_selection import train_test_split\n",
    "from sklearn.linear_model import LogisticRegression\n",
    "from sklearn.naive_bayes import MultinomialNB\n",
    "from sklearn.metrics import accuracy_score, classification_report\n",
    "import string \n",
    "import joblib"
   ]
  },
  {
   "cell_type": "markdown",
   "metadata": {},
   "source": [
    "Reading files from folders \"astronomia\" and \"inne\" and adding labels from folders name."
   ]
  },
  {
   "cell_type": "code",
   "execution_count": 2,
   "metadata": {},
   "outputs": [],
   "source": [
    "def read_files(folder_path, label):\n",
    "    texts = []\n",
    "    for filename in os.listdir(folder_path):\n",
    "        file_path = os.path.join(folder_path, filename)\n",
    "        if os.path.isfile(file_path):\n",
    "            with open(file_path, 'r', encoding='utf-8') as file:\n",
    "                texts.append(file.read())\n",
    "    return texts, [label] * len(texts) \n",
    "\n",
    "astronomy_folder = 'dane/astronomia'\n",
    "others_folder = 'dane/inne'\n",
    "\n",
    "astronomy_texts, astronomy_labels = read_files(astronomy_folder, 'astronomia')\n",
    "others_texts, others_labels = read_files(others_folder, 'inne')"
   ]
  },
  {
   "cell_type": "markdown",
   "metadata": {},
   "source": [
    "Creating DataFrame and .csv file."
   ]
  },
  {
   "cell_type": "code",
   "execution_count": 3,
   "metadata": {},
   "outputs": [
    {
     "name": "stdout",
     "output_type": "stream",
     "text": [
      "Dane zapisane.\n"
     ]
    }
   ],
   "source": [
    "texts = astronomy_texts + others_texts\n",
    "labels = astronomy_labels + others_labels\n",
    "\n",
    "data = {'text': texts, 'label':labels}\n",
    "df = pd.DataFrame(data)\n",
    "\n",
    "df.to_csv('dane_zbiorcze.csv', index=False)\n",
    "print('Dane zapisane.')"
   ]
  },
  {
   "cell_type": "code",
   "execution_count": 4,
   "metadata": {},
   "outputs": [
    {
     "data": {
      "text/html": [
       "<div>\n",
       "<style scoped>\n",
       "    .dataframe tbody tr th:only-of-type {\n",
       "        vertical-align: middle;\n",
       "    }\n",
       "\n",
       "    .dataframe tbody tr th {\n",
       "        vertical-align: top;\n",
       "    }\n",
       "\n",
       "    .dataframe thead th {\n",
       "        text-align: right;\n",
       "    }\n",
       "</style>\n",
       "<table border=\"1\" class=\"dataframe\">\n",
       "  <thead>\n",
       "    <tr style=\"text-align: right;\">\n",
       "      <th></th>\n",
       "      <th>text</th>\n",
       "      <th>label</th>\n",
       "    </tr>\n",
       "  </thead>\n",
       "  <tbody>\n",
       "    <tr>\n",
       "      <th>180</th>\n",
       "      <td>Teoria strun (TS) - koncepcja w fizyce teorety...</td>\n",
       "      <td>inne</td>\n",
       "    </tr>\n",
       "    <tr>\n",
       "      <th>261</th>\n",
       "      <td>Stade Roland Garros – kompleks sportowy w Pary...</td>\n",
       "      <td>inne</td>\n",
       "    </tr>\n",
       "    <tr>\n",
       "      <th>40</th>\n",
       "      <td>Układ planetarny, system planetarny - planety ...</td>\n",
       "      <td>astronomia</td>\n",
       "    </tr>\n",
       "    <tr>\n",
       "      <th>69</th>\n",
       "      <td>V2467 Cygni (również Nova Cygni 2007) - polar ...</td>\n",
       "      <td>astronomia</td>\n",
       "    </tr>\n",
       "    <tr>\n",
       "      <th>285</th>\n",
       "      <td>Wodospad – swobodny, pionowy spadek wody rzecz...</td>\n",
       "      <td>inne</td>\n",
       "    </tr>\n",
       "    <tr>\n",
       "      <th>283</th>\n",
       "      <td>Nysa Kłodzka (cz. Kladská Nisa, niem. Glatzer ...</td>\n",
       "      <td>inne</td>\n",
       "    </tr>\n",
       "    <tr>\n",
       "      <th>318</th>\n",
       "      <td>Fredrick Martin MacMurray (ur. 30 sierpnia 190...</td>\n",
       "      <td>inne</td>\n",
       "    </tr>\n",
       "    <tr>\n",
       "      <th>327</th>\n",
       "      <td>Cezary Andrzej Pazura (ur. 13 czerwca 1962[1] ...</td>\n",
       "      <td>inne</td>\n",
       "    </tr>\n",
       "    <tr>\n",
       "      <th>0</th>\n",
       "      <td>Astronomia - miesięcznik skierowany przede wsz...</td>\n",
       "      <td>astronomia</td>\n",
       "    </tr>\n",
       "    <tr>\n",
       "      <th>216</th>\n",
       "      <td>Dawid i Goliat - obraz olejny namalowany w lat...</td>\n",
       "      <td>inne</td>\n",
       "    </tr>\n",
       "  </tbody>\n",
       "</table>\n",
       "</div>"
      ],
      "text/plain": [
       "                                                  text       label\n",
       "180  Teoria strun (TS) - koncepcja w fizyce teorety...        inne\n",
       "261  Stade Roland Garros – kompleks sportowy w Pary...        inne\n",
       "40   Układ planetarny, system planetarny - planety ...  astronomia\n",
       "69   V2467 Cygni (również Nova Cygni 2007) - polar ...  astronomia\n",
       "285  Wodospad – swobodny, pionowy spadek wody rzecz...        inne\n",
       "283  Nysa Kłodzka (cz. Kladská Nisa, niem. Glatzer ...        inne\n",
       "318  Fredrick Martin MacMurray (ur. 30 sierpnia 190...        inne\n",
       "327  Cezary Andrzej Pazura (ur. 13 czerwca 1962[1] ...        inne\n",
       "0    Astronomia - miesięcznik skierowany przede wsz...  astronomia\n",
       "216  Dawid i Goliat - obraz olejny namalowany w lat...        inne"
      ]
     },
     "execution_count": 4,
     "metadata": {},
     "output_type": "execute_result"
    }
   ],
   "source": [
    "df.sample(10)"
   ]
  },
  {
   "cell_type": "markdown",
   "metadata": {},
   "source": [
    "Cleaning texts from punctuation, polish stopwords and capital letters."
   ]
  },
  {
   "cell_type": "code",
   "execution_count": 5,
   "metadata": {},
   "outputs": [],
   "source": [
    "def load_stopwords(file_path):\n",
    "    with open(file_path, 'r', encoding='utf-8') as file:\n",
    "        stopwords = file.read().splitlines()\n",
    "    return set(stopwords)\n",
    "\n",
    "stopwords_file = 'polish_stopwords.txt'\n",
    "\n",
    "polish_stopwords = load_stopwords(stopwords_file)\n",
    "\n",
    "def preprocess_text(text):\n",
    "    text = text.lower()\n",
    "    text = ''.join([char for char in text if char not in string.punctuation])\n",
    "    words = text.split()\n",
    "    words = [word for word in words if word not in polish_stopwords]\n",
    "    return ' '.join(words)\n",
    "\n",
    "df['text'] = df['text'].apply(preprocess_text)"
   ]
  },
  {
   "cell_type": "code",
   "execution_count": 6,
   "metadata": {},
   "outputs": [
    {
     "data": {
      "text/html": [
       "<div>\n",
       "<style scoped>\n",
       "    .dataframe tbody tr th:only-of-type {\n",
       "        vertical-align: middle;\n",
       "    }\n",
       "\n",
       "    .dataframe tbody tr th {\n",
       "        vertical-align: top;\n",
       "    }\n",
       "\n",
       "    .dataframe thead th {\n",
       "        text-align: right;\n",
       "    }\n",
       "</style>\n",
       "<table border=\"1\" class=\"dataframe\">\n",
       "  <thead>\n",
       "    <tr style=\"text-align: right;\">\n",
       "      <th></th>\n",
       "      <th>text</th>\n",
       "      <th>label</th>\n",
       "    </tr>\n",
       "  </thead>\n",
       "  <tbody>\n",
       "    <tr>\n",
       "      <th>312</th>\n",
       "      <td>kodeks cywilny skrót kc języku prawniczym kc –...</td>\n",
       "      <td>inne</td>\n",
       "    </tr>\n",
       "    <tr>\n",
       "      <th>90</th>\n",
       "      <td>57 mnemosyne planetoida pasa głównego planetoi...</td>\n",
       "      <td>astronomia</td>\n",
       "    </tr>\n",
       "    <tr>\n",
       "      <th>7</th>\n",
       "      <td>teon aleksandrii ur ok 335 zm ok 405 matematyk...</td>\n",
       "      <td>astronomia</td>\n",
       "    </tr>\n",
       "    <tr>\n",
       "      <th>224</th>\n",
       "      <td>kolory holi stworzony naturalnych składników n...</td>\n",
       "      <td>inne</td>\n",
       "    </tr>\n",
       "    <tr>\n",
       "      <th>103</th>\n",
       "      <td>nano saild2 mały satelita eksperymentalny zbud...</td>\n",
       "      <td>astronomia</td>\n",
       "    </tr>\n",
       "  </tbody>\n",
       "</table>\n",
       "</div>"
      ],
      "text/plain": [
       "                                                  text       label\n",
       "312  kodeks cywilny skrót kc języku prawniczym kc –...        inne\n",
       "90   57 mnemosyne planetoida pasa głównego planetoi...  astronomia\n",
       "7    teon aleksandrii ur ok 335 zm ok 405 matematyk...  astronomia\n",
       "224  kolory holi stworzony naturalnych składników n...        inne\n",
       "103  nano saild2 mały satelita eksperymentalny zbud...  astronomia"
      ]
     },
     "execution_count": 6,
     "metadata": {},
     "output_type": "execute_result"
    }
   ],
   "source": [
    "df.sample(5)"
   ]
  },
  {
   "cell_type": "markdown",
   "metadata": {},
   "source": [
    "Splitting data into training and testing."
   ]
  },
  {
   "cell_type": "code",
   "execution_count": 7,
   "metadata": {},
   "outputs": [],
   "source": [
    "X_train, X_test, y_train, y_test = train_test_split(df['text'], df['label'], test_size=0.2, random_state=42)"
   ]
  },
  {
   "cell_type": "code",
   "execution_count": 8,
   "metadata": {},
   "outputs": [
    {
     "name": "stdout",
     "output_type": "stream",
     "text": [
      "X_train shape:  (272,)\n",
      "X_test shape:  (68,)\n",
      "y_train shape:  (272,)\n",
      "y_test shape:  (68,)\n"
     ]
    }
   ],
   "source": [
    "print(\"X_train shape: \", X_train.shape)\n",
    "print(\"X_test shape: \", X_test.shape)\n",
    "print(\"y_train shape: \", y_train.shape)\n",
    "print(\"y_test shape: \", y_test.shape)"
   ]
  },
  {
   "cell_type": "markdown",
   "metadata": {},
   "source": [
    "Vectorizing the data."
   ]
  },
  {
   "cell_type": "code",
   "execution_count": 9,
   "metadata": {},
   "outputs": [],
   "source": [
    "vectorizer = TfidfVectorizer()\n",
    "X_train_vec = vectorizer.fit_transform(X_train)\n",
    "X_test_vec = vectorizer.transform(X_test)"
   ]
  },
  {
   "cell_type": "markdown",
   "metadata": {},
   "source": [
    "Training Naive Bayes model and making prediction. Evaluating the model."
   ]
  },
  {
   "cell_type": "code",
   "execution_count": 10,
   "metadata": {},
   "outputs": [
    {
     "name": "stdout",
     "output_type": "stream",
     "text": [
      "NB Accuracy: 0.8088235294117647\n",
      "NB Classification Report:\n",
      "               precision    recall  f1-score   support\n",
      "\n",
      "  astronomia       0.73      1.00      0.85        36\n",
      "        inne       1.00      0.59      0.75        32\n",
      "\n",
      "    accuracy                           0.81        68\n",
      "   macro avg       0.87      0.80      0.80        68\n",
      "weighted avg       0.86      0.81      0.80        68\n",
      "\n"
     ]
    }
   ],
   "source": [
    "model_NB = MultinomialNB()\n",
    "model_NB.fit(X_train_vec, y_train)\n",
    "\n",
    "y_pred_NB = model_NB.predict(X_test_vec)\n",
    "print('NB Accuracy:', accuracy_score(y_test, y_pred_NB))\n",
    "print('NB Classification Report:\\n', classification_report(y_test, y_pred_NB))"
   ]
  },
  {
   "cell_type": "markdown",
   "metadata": {},
   "source": [
    "Training Logistic Regression model and making prediction. Evaluating the model."
   ]
  },
  {
   "cell_type": "code",
   "execution_count": 11,
   "metadata": {},
   "outputs": [
    {
     "name": "stdout",
     "output_type": "stream",
     "text": [
      "LR Accuracy: 0.9852941176470589\n",
      "LR Classification Report:\n",
      "               precision    recall  f1-score   support\n",
      "\n",
      "  astronomia       1.00      0.97      0.99        36\n",
      "        inne       0.97      1.00      0.98        32\n",
      "\n",
      "    accuracy                           0.99        68\n",
      "   macro avg       0.98      0.99      0.99        68\n",
      "weighted avg       0.99      0.99      0.99        68\n",
      "\n"
     ]
    }
   ],
   "source": [
    "model_LR = LogisticRegression()\n",
    "model_LR.fit(X_train_vec, y_train)\n",
    "\n",
    "y_pred_LR = model_LR.predict(X_test_vec)\n",
    "print('LR Accuracy:', accuracy_score(y_test, y_pred_LR))\n",
    "print('LR Classification Report:\\n', classification_report(y_test, y_pred_LR))"
   ]
  },
  {
   "cell_type": "markdown",
   "metadata": {},
   "source": [
    "The Logistic Regression model made predictions better."
   ]
  },
  {
   "cell_type": "code",
   "execution_count": 12,
   "metadata": {},
   "outputs": [
    {
     "data": {
      "text/plain": [
       "array(['inne', 'astronomia', 'astronomia', 'astronomia', 'astronomia'],\n",
       "      dtype=object)"
      ]
     },
     "execution_count": 12,
     "metadata": {},
     "output_type": "execute_result"
    }
   ],
   "source": [
    "y_pred_LR[0:5]"
   ]
  },
  {
   "cell_type": "code",
   "execution_count": 13,
   "metadata": {},
   "outputs": [
    {
     "data": {
      "text/plain": [
       "284    natura 2000 – program sieci obszarów objętych ...\n",
       "116    io jowisz trzeci wielkości księżyc jowisza gru...\n",
       "113    messier 4 znana m4 ngc 6121 gromada kulista gw...\n",
       "42     biały karzeł niewielki rzędu rozmiarów ziemi o...\n",
       "126    gerald kron ur 6 kwietnia 1913 zm 9 kwietnia 2...\n",
       "Name: text, dtype: object"
      ]
     },
     "execution_count": 13,
     "metadata": {},
     "output_type": "execute_result"
    }
   ],
   "source": [
    "X_test.head()"
   ]
  },
  {
   "cell_type": "markdown",
   "metadata": {},
   "source": [
    "Saving vectorizer and model."
   ]
  },
  {
   "cell_type": "code",
   "execution_count": 14,
   "metadata": {},
   "outputs": [
    {
     "name": "stdout",
     "output_type": "stream",
     "text": [
      "Pliki zostały zapisane.\n"
     ]
    }
   ],
   "source": [
    "joblib.dump(vectorizer, 'tfidf_vectorizer.pkl')\n",
    "joblib.dump(model_LR, 'logistic_regression_model.pkl')\n",
    "\n",
    "print('Pliki zostały zapisane.')"
   ]
  },
  {
   "cell_type": "markdown",
   "metadata": {},
   "source": [
    "Validating the model on new data."
   ]
  },
  {
   "cell_type": "code",
   "execution_count": 15,
   "metadata": {},
   "outputs": [
    {
     "data": {
      "text/html": [
       "<div>\n",
       "<style scoped>\n",
       "    .dataframe tbody tr th:only-of-type {\n",
       "        vertical-align: middle;\n",
       "    }\n",
       "\n",
       "    .dataframe tbody tr th {\n",
       "        vertical-align: top;\n",
       "    }\n",
       "\n",
       "    .dataframe thead th {\n",
       "        text-align: right;\n",
       "    }\n",
       "</style>\n",
       "<table border=\"1\" class=\"dataframe\">\n",
       "  <thead>\n",
       "    <tr style=\"text-align: right;\">\n",
       "      <th></th>\n",
       "      <th>text</th>\n",
       "      <th>label</th>\n",
       "    </tr>\n",
       "  </thead>\n",
       "  <tbody>\n",
       "    <tr>\n",
       "      <th>0</th>\n",
       "      <td>1992 astronomowie podejrzewali posiadali jedno...</td>\n",
       "      <td>astronomia</td>\n",
       "    </tr>\n",
       "    <tr>\n",
       "      <th>1</th>\n",
       "      <td>1000 puzzle delle formiche „mrówkowe” obrazek ...</td>\n",
       "      <td>inne</td>\n",
       "    </tr>\n",
       "    <tr>\n",
       "      <th>2</th>\n",
       "      <td>c2020 f3 neowise – kometa długookresowa odkryt...</td>\n",
       "      <td>astronomia</td>\n",
       "    </tr>\n",
       "    <tr>\n",
       "      <th>3</th>\n",
       "      <td>planety powinny fotografowanie możliwie najwyż...</td>\n",
       "      <td>astronomia</td>\n",
       "    </tr>\n",
       "    <tr>\n",
       "      <th>4</th>\n",
       "      <td>niewidoma marielaure mieszka paryżu okolicy mu...</td>\n",
       "      <td>inne</td>\n",
       "    </tr>\n",
       "  </tbody>\n",
       "</table>\n",
       "</div>"
      ],
      "text/plain": [
       "                                                text       label\n",
       "0  1992 astronomowie podejrzewali posiadali jedno...  astronomia\n",
       "1  1000 puzzle delle formiche „mrówkowe” obrazek ...        inne\n",
       "2  c2020 f3 neowise – kometa długookresowa odkryt...  astronomia\n",
       "3  planety powinny fotografowanie możliwie najwyż...  astronomia\n",
       "4  niewidoma marielaure mieszka paryżu okolicy mu...        inne"
      ]
     },
     "execution_count": 15,
     "metadata": {},
     "output_type": "execute_result"
    }
   ],
   "source": [
    "val_df = pd.read_csv('dane_walidacyjne.csv', encoding='utf-8', sep=';')\n",
    "val_df_clean = val_df.copy()\n",
    "val_df_clean['text'] = val_df['text'].apply(preprocess_text)\n",
    "val_df_clean.head()"
   ]
  },
  {
   "cell_type": "code",
   "execution_count": 16,
   "metadata": {},
   "outputs": [
    {
     "data": {
      "text/plain": [
       "(20, 2)"
      ]
     },
     "execution_count": 16,
     "metadata": {},
     "output_type": "execute_result"
    }
   ],
   "source": [
    "val_df_clean.shape"
   ]
  },
  {
   "cell_type": "code",
   "execution_count": 17,
   "metadata": {},
   "outputs": [
    {
     "name": "stdout",
     "output_type": "stream",
     "text": [
      "LR Accuracy: 0.7\n",
      "LR Classification Report:\n",
      "               precision    recall  f1-score   support\n",
      "\n",
      "  astronomia       1.00      0.40      0.57        10\n",
      "        inne       0.62      1.00      0.77        10\n",
      "\n",
      "    accuracy                           0.70        20\n",
      "   macro avg       0.81      0.70      0.67        20\n",
      "weighted avg       0.81      0.70      0.67        20\n",
      "\n"
     ]
    }
   ],
   "source": [
    "X_val = val_df_clean['text']\n",
    "y_val = val_df_clean['label']\n",
    "X_val_vec = vectorizer.transform(X_val)\n",
    "\n",
    "y_val_pred_LR = model_LR.predict(X_val_vec)\n",
    "print('LR Accuracy:', accuracy_score(y_val, y_val_pred_LR))\n",
    "print('LR Classification Report:\\n', classification_report(y_val, y_val_pred_LR))"
   ]
  },
  {
   "cell_type": "code",
   "execution_count": 18,
   "metadata": {},
   "outputs": [
    {
     "data": {
      "text/html": [
       "<div>\n",
       "<style scoped>\n",
       "    .dataframe tbody tr th:only-of-type {\n",
       "        vertical-align: middle;\n",
       "    }\n",
       "\n",
       "    .dataframe tbody tr th {\n",
       "        vertical-align: top;\n",
       "    }\n",
       "\n",
       "    .dataframe thead th {\n",
       "        text-align: right;\n",
       "    }\n",
       "</style>\n",
       "<table border=\"1\" class=\"dataframe\">\n",
       "  <thead>\n",
       "    <tr style=\"text-align: right;\">\n",
       "      <th></th>\n",
       "      <th>text</th>\n",
       "      <th>label</th>\n",
       "      <th>predicted_label</th>\n",
       "    </tr>\n",
       "  </thead>\n",
       "  <tbody>\n",
       "    <tr>\n",
       "      <th>0</th>\n",
       "      <td>Do roku 1992 astronomowie podejrzewali, ale ni...</td>\n",
       "      <td>astronomia</td>\n",
       "      <td>astronomia</td>\n",
       "    </tr>\n",
       "    <tr>\n",
       "      <th>1</th>\n",
       "      <td>1000 Puzzle delle Formiche czyli „mrówkowe” Ob...</td>\n",
       "      <td>inne</td>\n",
       "      <td>inne</td>\n",
       "    </tr>\n",
       "    <tr>\n",
       "      <th>2</th>\n",
       "      <td>C/2020 F3 (NEOWISE) – kometa długookresowa, od...</td>\n",
       "      <td>astronomia</td>\n",
       "      <td>astronomia</td>\n",
       "    </tr>\n",
       "    <tr>\n",
       "      <th>3</th>\n",
       "      <td>Planety powinny być fotografowanie możliwie ja...</td>\n",
       "      <td>astronomia</td>\n",
       "      <td>inne</td>\n",
       "    </tr>\n",
       "    <tr>\n",
       "      <th>4</th>\n",
       "      <td>Niewidoma Marie-Laure mieszka w Paryżu w okoli...</td>\n",
       "      <td>inne</td>\n",
       "      <td>inne</td>\n",
       "    </tr>\n",
       "    <tr>\n",
       "      <th>5</th>\n",
       "      <td>Bieszczady miały być dla Wiktora Forsta azylem...</td>\n",
       "      <td>inne</td>\n",
       "      <td>inne</td>\n",
       "    </tr>\n",
       "    <tr>\n",
       "      <th>6</th>\n",
       "      <td>Nowa gazetka już dostępna!\\nZ radością informu...</td>\n",
       "      <td>inne</td>\n",
       "      <td>inne</td>\n",
       "    </tr>\n",
       "    <tr>\n",
       "      <th>7</th>\n",
       "      <td>Nie każdy może lub chce zabrać swój teleskop i...</td>\n",
       "      <td>astronomia</td>\n",
       "      <td>inne</td>\n",
       "    </tr>\n",
       "    <tr>\n",
       "      <th>8</th>\n",
       "      <td>Księżyc w fazie 3 doby i 7 godzin po nowiu. Ba...</td>\n",
       "      <td>astronomia</td>\n",
       "      <td>inne</td>\n",
       "    </tr>\n",
       "    <tr>\n",
       "      <th>9</th>\n",
       "      <td>Wentworth 1000 „Soulmates”\\nPrzecudowne puzzle...</td>\n",
       "      <td>inne</td>\n",
       "      <td>inne</td>\n",
       "    </tr>\n",
       "    <tr>\n",
       "      <th>10</th>\n",
       "      <td>UWAGA! Dziś również widzimy się na żywo! Okien...</td>\n",
       "      <td>astronomia</td>\n",
       "      <td>inne</td>\n",
       "    </tr>\n",
       "    <tr>\n",
       "      <th>11</th>\n",
       "      <td>Dzisiaj wyszedłem sobie na dwór po powrocie do...</td>\n",
       "      <td>astronomia</td>\n",
       "      <td>astronomia</td>\n",
       "    </tr>\n",
       "    <tr>\n",
       "      <th>12</th>\n",
       "      <td>M17 - obiekt znany, oklepany, nie będę powiela...</td>\n",
       "      <td>astronomia</td>\n",
       "      <td>inne</td>\n",
       "    </tr>\n",
       "    <tr>\n",
       "      <th>13</th>\n",
       "      <td>Ustawa o ochronie sygnalistów ma wdrażać do po...</td>\n",
       "      <td>inne</td>\n",
       "      <td>inne</td>\n",
       "    </tr>\n",
       "    <tr>\n",
       "      <th>14</th>\n",
       "      <td>Dzięki systemowi SteamCare ubrania wyjęte z bę...</td>\n",
       "      <td>inne</td>\n",
       "      <td>inne</td>\n",
       "    </tr>\n",
       "    <tr>\n",
       "      <th>15</th>\n",
       "      <td>Poza obiektami należącymi do naszego Układu Sł...</td>\n",
       "      <td>astronomia</td>\n",
       "      <td>astronomia</td>\n",
       "    </tr>\n",
       "    <tr>\n",
       "      <th>16</th>\n",
       "      <td>Jeśli zastanawiasz się jaką deskorolkę wybrać ...</td>\n",
       "      <td>inne</td>\n",
       "      <td>inne</td>\n",
       "    </tr>\n",
       "    <tr>\n",
       "      <th>17</th>\n",
       "      <td>Podczas wywiadu z prof. Szymonem Kozłowskim na...</td>\n",
       "      <td>astronomia</td>\n",
       "      <td>inne</td>\n",
       "    </tr>\n",
       "    <tr>\n",
       "      <th>18</th>\n",
       "      <td>DREAMIES to pysznie chrupiące przysmaki z krem...</td>\n",
       "      <td>inne</td>\n",
       "      <td>inne</td>\n",
       "    </tr>\n",
       "    <tr>\n",
       "      <th>19</th>\n",
       "      <td>Biurko gamingowe MAD DOG GD120L to mebel stwor...</td>\n",
       "      <td>inne</td>\n",
       "      <td>inne</td>\n",
       "    </tr>\n",
       "  </tbody>\n",
       "</table>\n",
       "</div>"
      ],
      "text/plain": [
       "                                                 text       label  \\\n",
       "0   Do roku 1992 astronomowie podejrzewali, ale ni...  astronomia   \n",
       "1   1000 Puzzle delle Formiche czyli „mrówkowe” Ob...        inne   \n",
       "2   C/2020 F3 (NEOWISE) – kometa długookresowa, od...  astronomia   \n",
       "3   Planety powinny być fotografowanie możliwie ja...  astronomia   \n",
       "4   Niewidoma Marie-Laure mieszka w Paryżu w okoli...        inne   \n",
       "5   Bieszczady miały być dla Wiktora Forsta azylem...        inne   \n",
       "6   Nowa gazetka już dostępna!\\nZ radością informu...        inne   \n",
       "7   Nie każdy może lub chce zabrać swój teleskop i...  astronomia   \n",
       "8   Księżyc w fazie 3 doby i 7 godzin po nowiu. Ba...  astronomia   \n",
       "9   Wentworth 1000 „Soulmates”\\nPrzecudowne puzzle...        inne   \n",
       "10  UWAGA! Dziś również widzimy się na żywo! Okien...  astronomia   \n",
       "11  Dzisiaj wyszedłem sobie na dwór po powrocie do...  astronomia   \n",
       "12  M17 - obiekt znany, oklepany, nie będę powiela...  astronomia   \n",
       "13  Ustawa o ochronie sygnalistów ma wdrażać do po...        inne   \n",
       "14  Dzięki systemowi SteamCare ubrania wyjęte z bę...        inne   \n",
       "15  Poza obiektami należącymi do naszego Układu Sł...  astronomia   \n",
       "16  Jeśli zastanawiasz się jaką deskorolkę wybrać ...        inne   \n",
       "17  Podczas wywiadu z prof. Szymonem Kozłowskim na...  astronomia   \n",
       "18  DREAMIES to pysznie chrupiące przysmaki z krem...        inne   \n",
       "19  Biurko gamingowe MAD DOG GD120L to mebel stwor...        inne   \n",
       "\n",
       "   predicted_label  \n",
       "0       astronomia  \n",
       "1             inne  \n",
       "2       astronomia  \n",
       "3             inne  \n",
       "4             inne  \n",
       "5             inne  \n",
       "6             inne  \n",
       "7             inne  \n",
       "8             inne  \n",
       "9             inne  \n",
       "10            inne  \n",
       "11      astronomia  \n",
       "12            inne  \n",
       "13            inne  \n",
       "14            inne  \n",
       "15      astronomia  \n",
       "16            inne  \n",
       "17            inne  \n",
       "18            inne  \n",
       "19            inne  "
      ]
     },
     "execution_count": 18,
     "metadata": {},
     "output_type": "execute_result"
    }
   ],
   "source": [
    "y_val_pred_df = pd.DataFrame(y_val_pred_LR, columns=['predicted_label'])\n",
    "val_pred_df = pd.concat([val_df['text'], val_df['label'], y_val_pred_df], axis=1)\n",
    "val_pred_df"
   ]
  },
  {
   "cell_type": "code",
   "execution_count": 19,
   "metadata": {},
   "outputs": [
    {
     "name": "stdout",
     "output_type": "stream",
     "text": [
      "RF Accuracy: 0.9411764705882353\n",
      "RF Classification Report:\n",
      "               precision    recall  f1-score   support\n",
      "\n",
      "  astronomia       0.97      0.92      0.94        36\n",
      "        inne       0.91      0.97      0.94        32\n",
      "\n",
      "    accuracy                           0.94        68\n",
      "   macro avg       0.94      0.94      0.94        68\n",
      "weighted avg       0.94      0.94      0.94        68\n",
      "\n"
     ]
    }
   ],
   "source": [
    "from sklearn.ensemble import RandomForestClassifier\n",
    "\n",
    "model_RF = RandomForestClassifier(n_estimators=100, random_state=42)\n",
    "model_RF.fit(X_train_vec, y_train)\n",
    "y_pred_RF = model_RF.predict(X_test_vec)\n",
    "\n",
    "print('RF Accuracy:', accuracy_score(y_test, y_pred_RF))\n",
    "print('RF Classification Report:\\n', classification_report(y_test, y_pred_RF))"
   ]
  },
  {
   "cell_type": "code",
   "execution_count": 20,
   "metadata": {},
   "outputs": [
    {
     "name": "stdout",
     "output_type": "stream",
     "text": [
      "RF Accuracy: 0.6\n",
      "RF Classification Report:\n",
      "               precision    recall  f1-score   support\n",
      "\n",
      "  astronomia       1.00      0.20      0.33        10\n",
      "        inne       0.56      1.00      0.71        10\n",
      "\n",
      "    accuracy                           0.60        20\n",
      "   macro avg       0.78      0.60      0.52        20\n",
      "weighted avg       0.78      0.60      0.52        20\n",
      "\n"
     ]
    }
   ],
   "source": [
    "y_val_pred_RF = model_RF.predict(X_val_vec)\n",
    "print('RF Accuracy:', accuracy_score(y_val, y_val_pred_RF))\n",
    "print('RF Classification Report:\\n', classification_report(y_val, y_val_pred_RF))"
   ]
  }
 ],
 "metadata": {
  "kernelspec": {
   "display_name": "Python 3",
   "language": "python",
   "name": "python3"
  },
  "language_info": {
   "codemirror_mode": {
    "name": "ipython",
    "version": 3
   },
   "file_extension": ".py",
   "mimetype": "text/x-python",
   "name": "python",
   "nbconvert_exporter": "python",
   "pygments_lexer": "ipython3",
   "version": "3.12.3"
  }
 },
 "nbformat": 4,
 "nbformat_minor": 2
}
