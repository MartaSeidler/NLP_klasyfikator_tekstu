{
 "cells": [
  {
   "cell_type": "markdown",
   "metadata": {},
   "source": [
    "Importing libraries:\n",
    "- os - for reading and saving files\n",
    "- pandas - for working with dataset\n",
    "- scikit-learn - for machine learning\n",
    "- string - for removing punctuation\n",
    "- joblib - for saving model and vectorizer"
   ]
  },
  {
   "cell_type": "code",
   "execution_count": 2,
   "metadata": {},
   "outputs": [],
   "source": [
    "import os \n",
    "import pandas as pd\n",
    "from sklearn.feature_extraction.text import TfidfVectorizer \n",
    "from sklearn.model_selection import train_test_split\n",
    "from sklearn.linear_model import LogisticRegression\n",
    "from sklearn.naive_bayes import MultinomialNB\n",
    "from sklearn.metrics import accuracy_score, classification_report\n",
    "import string \n",
    "import joblib"
   ]
  },
  {
   "cell_type": "markdown",
   "metadata": {},
   "source": [
    "Reading files from folders \"astronomia\" and \"inne\" and adding labels from folders name."
   ]
  },
  {
   "cell_type": "code",
   "execution_count": 3,
   "metadata": {},
   "outputs": [],
   "source": [
    "def read_files(folder_path, label):\n",
    "    texts = []\n",
    "    for filename in os.listdir(folder_path):\n",
    "        file_path = os.path.join(folder_path, filename)\n",
    "        if os.path.isfile(file_path):\n",
    "            with open(file_path, 'r', encoding='utf-8') as file:\n",
    "                texts.append(file.read())\n",
    "    return texts, [label] * len(texts) \n",
    "\n",
    "astronomy_folder = 'dane/astronomia'\n",
    "others_folder = 'dane/inne'\n",
    "\n",
    "astronomy_texts, astronomy_labels = read_files(astronomy_folder, 'astronomia')\n",
    "others_texts, others_labels = read_files(others_folder, 'inne')"
   ]
  },
  {
   "cell_type": "markdown",
   "metadata": {},
   "source": [
    "Creating DataFrame and .csv file."
   ]
  },
  {
   "cell_type": "code",
   "execution_count": 4,
   "metadata": {},
   "outputs": [
    {
     "name": "stdout",
     "output_type": "stream",
     "text": [
      "Dane zapisane.\n"
     ]
    }
   ],
   "source": [
    "texts = astronomy_texts + others_texts\n",
    "labels = astronomy_labels + others_labels\n",
    "\n",
    "data = {'text': texts, 'label':labels}\n",
    "df = pd.DataFrame(data)\n",
    "\n",
    "df.to_csv('dane_zbiorcze.csv', index=False)\n",
    "print('Dane zapisane.')"
   ]
  },
  {
   "cell_type": "code",
   "execution_count": 5,
   "metadata": {},
   "outputs": [
    {
     "data": {
      "text/html": [
       "<div>\n",
       "<style scoped>\n",
       "    .dataframe tbody tr th:only-of-type {\n",
       "        vertical-align: middle;\n",
       "    }\n",
       "\n",
       "    .dataframe tbody tr th {\n",
       "        vertical-align: top;\n",
       "    }\n",
       "\n",
       "    .dataframe thead th {\n",
       "        text-align: right;\n",
       "    }\n",
       "</style>\n",
       "<table border=\"1\" class=\"dataframe\">\n",
       "  <thead>\n",
       "    <tr style=\"text-align: right;\">\n",
       "      <th></th>\n",
       "      <th>text</th>\n",
       "      <th>label</th>\n",
       "    </tr>\n",
       "  </thead>\n",
       "  <tbody>\n",
       "    <tr>\n",
       "      <th>170</th>\n",
       "      <td>Dołek osiowy - zagłębienie w kolumience, wokół...</td>\n",
       "      <td>inne</td>\n",
       "    </tr>\n",
       "    <tr>\n",
       "      <th>134</th>\n",
       "      <td>Pioneer 6 (również Pioneer A) - amerykańska so...</td>\n",
       "      <td>astronomia</td>\n",
       "    </tr>\n",
       "    <tr>\n",
       "      <th>260</th>\n",
       "      <td>Nagroda Akademii Filmowej (ang. Academy Award)...</td>\n",
       "      <td>inne</td>\n",
       "    </tr>\n",
       "    <tr>\n",
       "      <th>48</th>\n",
       "      <td>Very Large Array (VLA) - obserwatorium radioas...</td>\n",
       "      <td>astronomia</td>\n",
       "    </tr>\n",
       "    <tr>\n",
       "      <th>159</th>\n",
       "      <td>Odświeżanie - liczba wykonanych przez monitor ...</td>\n",
       "      <td>inne</td>\n",
       "    </tr>\n",
       "    <tr>\n",
       "      <th>268</th>\n",
       "      <td>Demokracja szlachecka – system panujący w XV i...</td>\n",
       "      <td>inne</td>\n",
       "    </tr>\n",
       "    <tr>\n",
       "      <th>81</th>\n",
       "      <td>Kazimierz Romuald Graff (ur. 7 lutego 1878 w P...</td>\n",
       "      <td>astronomia</td>\n",
       "    </tr>\n",
       "    <tr>\n",
       "      <th>218</th>\n",
       "      <td>Monolog (gr. mónos – sam, samotny, pojedynczy;...</td>\n",
       "      <td>inne</td>\n",
       "    </tr>\n",
       "    <tr>\n",
       "      <th>128</th>\n",
       "      <td>HD 7449 - gwiazda typu widmowego F. Znajduje s...</td>\n",
       "      <td>astronomia</td>\n",
       "    </tr>\n",
       "    <tr>\n",
       "      <th>234</th>\n",
       "      <td>Epigramat, epigram (stgr. ἐπίγραμμα epigramma ...</td>\n",
       "      <td>inne</td>\n",
       "    </tr>\n",
       "  </tbody>\n",
       "</table>\n",
       "</div>"
      ],
      "text/plain": [
       "                                                  text       label\n",
       "170  Dołek osiowy - zagłębienie w kolumience, wokół...        inne\n",
       "134  Pioneer 6 (również Pioneer A) - amerykańska so...  astronomia\n",
       "260  Nagroda Akademii Filmowej (ang. Academy Award)...        inne\n",
       "48   Very Large Array (VLA) - obserwatorium radioas...  astronomia\n",
       "159  Odświeżanie - liczba wykonanych przez monitor ...        inne\n",
       "268  Demokracja szlachecka – system panujący w XV i...        inne\n",
       "81   Kazimierz Romuald Graff (ur. 7 lutego 1878 w P...  astronomia\n",
       "218  Monolog (gr. mónos – sam, samotny, pojedynczy;...        inne\n",
       "128  HD 7449 - gwiazda typu widmowego F. Znajduje s...  astronomia\n",
       "234  Epigramat, epigram (stgr. ἐπίγραμμα epigramma ...        inne"
      ]
     },
     "execution_count": 5,
     "metadata": {},
     "output_type": "execute_result"
    }
   ],
   "source": [
    "df.sample(10)"
   ]
  },
  {
   "cell_type": "markdown",
   "metadata": {},
   "source": [
    "Cleaning texts from punctuation, polish stopwords and capital letters."
   ]
  },
  {
   "cell_type": "code",
   "execution_count": 6,
   "metadata": {},
   "outputs": [],
   "source": [
    "def load_stopwords(file_path):\n",
    "    with open(file_path, 'r', encoding='utf-8') as file:\n",
    "        stopwords = file.read().splitlines()\n",
    "    return set(stopwords)\n",
    "\n",
    "stopwords_file = 'polish_stopwords.txt'\n",
    "\n",
    "polish_stopwords = load_stopwords(stopwords_file)\n",
    "\n",
    "def preprocess_text(text):\n",
    "    text = text.lower()\n",
    "    text = ''.join([char for char in text if char not in string.punctuation])\n",
    "    words = text.split()\n",
    "    words = [word for word in words if word not in polish_stopwords]\n",
    "    return ' '.join(words)\n",
    "\n",
    "df['text'] = df['text'].apply(preprocess_text)"
   ]
  },
  {
   "cell_type": "code",
   "execution_count": 7,
   "metadata": {},
   "outputs": [
    {
     "data": {
      "text/html": [
       "<div>\n",
       "<style scoped>\n",
       "    .dataframe tbody tr th:only-of-type {\n",
       "        vertical-align: middle;\n",
       "    }\n",
       "\n",
       "    .dataframe tbody tr th {\n",
       "        vertical-align: top;\n",
       "    }\n",
       "\n",
       "    .dataframe thead th {\n",
       "        text-align: right;\n",
       "    }\n",
       "</style>\n",
       "<table border=\"1\" class=\"dataframe\">\n",
       "  <thead>\n",
       "    <tr style=\"text-align: right;\">\n",
       "      <th></th>\n",
       "      <th>text</th>\n",
       "      <th>label</th>\n",
       "    </tr>\n",
       "  </thead>\n",
       "  <tbody>\n",
       "    <tr>\n",
       "      <th>85</th>\n",
       "      <td>30 urania planetoida pasa głównego planetoid o...</td>\n",
       "      <td>astronomia</td>\n",
       "    </tr>\n",
       "    <tr>\n",
       "      <th>130</th>\n",
       "      <td>julius heinrich georg franz ur 28 czerwca 1847...</td>\n",
       "      <td>astronomia</td>\n",
       "    </tr>\n",
       "    <tr>\n",
       "      <th>214</th>\n",
       "      <td>przedrostek prefiks łac praefixus „przymocowan...</td>\n",
       "      <td>inne</td>\n",
       "    </tr>\n",
       "    <tr>\n",
       "      <th>141</th>\n",
       "      <td>noc gwiaździsta obraz józefa chełmońskiego 188...</td>\n",
       "      <td>inne</td>\n",
       "    </tr>\n",
       "    <tr>\n",
       "      <th>96</th>\n",
       "      <td>91 aegina planetoida pasa głównego planetoid o...</td>\n",
       "      <td>astronomia</td>\n",
       "    </tr>\n",
       "  </tbody>\n",
       "</table>\n",
       "</div>"
      ],
      "text/plain": [
       "                                                  text       label\n",
       "85   30 urania planetoida pasa głównego planetoid o...  astronomia\n",
       "130  julius heinrich georg franz ur 28 czerwca 1847...  astronomia\n",
       "214  przedrostek prefiks łac praefixus „przymocowan...        inne\n",
       "141  noc gwiaździsta obraz józefa chełmońskiego 188...        inne\n",
       "96   91 aegina planetoida pasa głównego planetoid o...  astronomia"
      ]
     },
     "execution_count": 7,
     "metadata": {},
     "output_type": "execute_result"
    }
   ],
   "source": [
    "df.sample(5)"
   ]
  },
  {
   "cell_type": "markdown",
   "metadata": {},
   "source": [
    "Splitting data into training and testing."
   ]
  },
  {
   "cell_type": "code",
   "execution_count": 8,
   "metadata": {},
   "outputs": [],
   "source": [
    "X_train, X_test, y_train, y_test = train_test_split(df['text'], df['label'], test_size=0.2, random_state=42)"
   ]
  },
  {
   "cell_type": "code",
   "execution_count": 9,
   "metadata": {},
   "outputs": [
    {
     "name": "stdout",
     "output_type": "stream",
     "text": [
      "X_train shape:  (224,)\n",
      "X_test shape:  (56,)\n",
      "y_train shape:  (224,)\n",
      "y_test shape:  (56,)\n"
     ]
    }
   ],
   "source": [
    "print(\"X_train shape: \", X_train.shape)\n",
    "print(\"X_test shape: \", X_test.shape)\n",
    "print(\"y_train shape: \", y_train.shape)\n",
    "print(\"y_test shape: \", y_test.shape)"
   ]
  },
  {
   "cell_type": "markdown",
   "metadata": {},
   "source": [
    "Vectorizing the data."
   ]
  },
  {
   "cell_type": "code",
   "execution_count": 10,
   "metadata": {},
   "outputs": [],
   "source": [
    "vectorizer = TfidfVectorizer()\n",
    "X_train_vec = vectorizer.fit_transform(X_train)\n",
    "X_test_vec = vectorizer.transform(X_test)"
   ]
  },
  {
   "cell_type": "markdown",
   "metadata": {},
   "source": [
    "Training Naive Bayes model and making prediction. Evaluating the model."
   ]
  },
  {
   "cell_type": "code",
   "execution_count": 11,
   "metadata": {},
   "outputs": [
    {
     "name": "stdout",
     "output_type": "stream",
     "text": [
      "NB Accuracy: 0.8214285714285714\n",
      "NB Classification Report:\n",
      "               precision    recall  f1-score   support\n",
      "\n",
      "  astronomia       0.75      0.96      0.84        28\n",
      "        inne       0.95      0.68      0.79        28\n",
      "\n",
      "    accuracy                           0.82        56\n",
      "   macro avg       0.85      0.82      0.82        56\n",
      "weighted avg       0.85      0.82      0.82        56\n",
      "\n"
     ]
    }
   ],
   "source": [
    "model_NB = MultinomialNB()\n",
    "model_NB.fit(X_train_vec, y_train)\n",
    "\n",
    "y_pred_NB = model_NB.predict(X_test_vec)\n",
    "print('NB Accuracy:', accuracy_score(y_test, y_pred_NB))\n",
    "print('NB Classification Report:\\n', classification_report(y_test, y_pred_NB))"
   ]
  },
  {
   "cell_type": "markdown",
   "metadata": {},
   "source": [
    "Training Logistic Regression model and making prediction. Evaluating the model."
   ]
  },
  {
   "cell_type": "code",
   "execution_count": 12,
   "metadata": {},
   "outputs": [
    {
     "name": "stdout",
     "output_type": "stream",
     "text": [
      "LR Accuracy: 0.9464285714285714\n",
      "LR Classification Report:\n",
      "               precision    recall  f1-score   support\n",
      "\n",
      "  astronomia       1.00      0.89      0.94        28\n",
      "        inne       0.90      1.00      0.95        28\n",
      "\n",
      "    accuracy                           0.95        56\n",
      "   macro avg       0.95      0.95      0.95        56\n",
      "weighted avg       0.95      0.95      0.95        56\n",
      "\n"
     ]
    }
   ],
   "source": [
    "model_LR = LogisticRegression()\n",
    "model_LR.fit(X_train_vec, y_train)\n",
    "\n",
    "y_pred_LR = model_LR.predict(X_test_vec)\n",
    "print('LR Accuracy:', accuracy_score(y_test, y_pred_LR))\n",
    "print('LR Classification Report:\\n', classification_report(y_test, y_pred_LR))"
   ]
  },
  {
   "cell_type": "markdown",
   "metadata": {},
   "source": [
    "The Logistic Regression model made predictions better."
   ]
  },
  {
   "cell_type": "code",
   "execution_count": 13,
   "metadata": {},
   "outputs": [
    {
     "data": {
      "text/plain": [
       "array(['astronomia', 'astronomia', 'inne', 'inne', 'inne'], dtype=object)"
      ]
     },
     "execution_count": 13,
     "metadata": {},
     "output_type": "execute_result"
    }
   ],
   "source": [
    "y_pred_LR[0:5]"
   ]
  },
  {
   "cell_type": "code",
   "execution_count": 14,
   "metadata": {},
   "outputs": [
    {
     "data": {
      "text/plain": [
       "33     korona południowa łac corona australis dop cor...\n",
       "108    planetozymal planetezymal małe ciało niebieski...\n",
       "240    mykoryza12 mikoryza345a mycorrhiza – powszechn...\n",
       "259    hollywood boulevard – ulica hollywood los ange...\n",
       "154    liczba stopni swobody df ang degrees of freedo...\n",
       "Name: text, dtype: object"
      ]
     },
     "execution_count": 14,
     "metadata": {},
     "output_type": "execute_result"
    }
   ],
   "source": [
    "X_test.head()"
   ]
  },
  {
   "cell_type": "markdown",
   "metadata": {},
   "source": [
    "Saving vectorizer and model."
   ]
  },
  {
   "cell_type": "code",
   "execution_count": 15,
   "metadata": {},
   "outputs": [
    {
     "name": "stdout",
     "output_type": "stream",
     "text": [
      "Pliki zostały zapisane.\n"
     ]
    }
   ],
   "source": [
    "joblib.dump(vectorizer, 'tfidf_vectorizer.pkl')\n",
    "joblib.dump(model_LR, 'logistic_regression_model.pkl')\n",
    "\n",
    "print('Pliki zostały zapisane.')"
   ]
  },
  {
   "cell_type": "markdown",
   "metadata": {},
   "source": [
    "Validating the model on new data."
   ]
  },
  {
   "cell_type": "code",
   "execution_count": 23,
   "metadata": {},
   "outputs": [
    {
     "data": {
      "text/html": [
       "<div>\n",
       "<style scoped>\n",
       "    .dataframe tbody tr th:only-of-type {\n",
       "        vertical-align: middle;\n",
       "    }\n",
       "\n",
       "    .dataframe tbody tr th {\n",
       "        vertical-align: top;\n",
       "    }\n",
       "\n",
       "    .dataframe thead th {\n",
       "        text-align: right;\n",
       "    }\n",
       "</style>\n",
       "<table border=\"1\" class=\"dataframe\">\n",
       "  <thead>\n",
       "    <tr style=\"text-align: right;\">\n",
       "      <th></th>\n",
       "      <th>text</th>\n",
       "      <th>label</th>\n",
       "    </tr>\n",
       "  </thead>\n",
       "  <tbody>\n",
       "    <tr>\n",
       "      <th>0</th>\n",
       "      <td>1992 astronomowie podejrzewali posiadali jedno...</td>\n",
       "      <td>astronomia</td>\n",
       "    </tr>\n",
       "    <tr>\n",
       "      <th>1</th>\n",
       "      <td>1000 puzzle delle formiche „mrówkowe” obrazek ...</td>\n",
       "      <td>inne</td>\n",
       "    </tr>\n",
       "    <tr>\n",
       "      <th>2</th>\n",
       "      <td>c2020 f3 neowise – kometa długookresowa odkryt...</td>\n",
       "      <td>astronomia</td>\n",
       "    </tr>\n",
       "    <tr>\n",
       "      <th>3</th>\n",
       "      <td>planety powinny fotografowanie możliwie najwyż...</td>\n",
       "      <td>astronomia</td>\n",
       "    </tr>\n",
       "    <tr>\n",
       "      <th>4</th>\n",
       "      <td>niewidoma marielaure mieszka paryżu okolicy mu...</td>\n",
       "      <td>inne</td>\n",
       "    </tr>\n",
       "  </tbody>\n",
       "</table>\n",
       "</div>"
      ],
      "text/plain": [
       "                                                text       label\n",
       "0  1992 astronomowie podejrzewali posiadali jedno...  astronomia\n",
       "1  1000 puzzle delle formiche „mrówkowe” obrazek ...        inne\n",
       "2  c2020 f3 neowise – kometa długookresowa odkryt...  astronomia\n",
       "3  planety powinny fotografowanie możliwie najwyż...  astronomia\n",
       "4  niewidoma marielaure mieszka paryżu okolicy mu...        inne"
      ]
     },
     "execution_count": 23,
     "metadata": {},
     "output_type": "execute_result"
    }
   ],
   "source": [
    "val_df = pd.read_csv('dane_walidacyjne.csv', encoding='utf-8', sep=';')\n",
    "val_df['text'] = val_df['text'].apply(preprocess_text)\n",
    "val_df.head()"
   ]
  },
  {
   "cell_type": "code",
   "execution_count": 24,
   "metadata": {},
   "outputs": [
    {
     "name": "stdout",
     "output_type": "stream",
     "text": [
      "LR Accuracy: 0.6363636363636364\n",
      "LR Classification Report:\n",
      "               precision    recall  f1-score   support\n",
      "\n",
      "  astronomia       1.00      0.33      0.50         6\n",
      "        inne       0.56      1.00      0.71         5\n",
      "\n",
      "    accuracy                           0.64        11\n",
      "   macro avg       0.78      0.67      0.61        11\n",
      "weighted avg       0.80      0.64      0.60        11\n",
      "\n"
     ]
    }
   ],
   "source": [
    "X_val = val_df['text']\n",
    "y_val = val_df['label']\n",
    "X_val_vec = vectorizer.transform(X_val)\n",
    "\n",
    "y_val_pred_LR = model_LR.predict(X_val_vec)\n",
    "print('LR Accuracy:', accuracy_score(y_val, y_val_pred_LR))\n",
    "print('LR Classification Report:\\n', classification_report(y_val, y_val_pred_LR))"
   ]
  },
  {
   "cell_type": "markdown",
   "metadata": {},
   "source": [
    "The model cannot predict based on data that has a source other than \"wikipedia.pl\". The set of training data should be increased by data from other sources."
   ]
  },
  {
   "cell_type": "markdown",
   "metadata": {},
   "source": []
  }
 ],
 "metadata": {
  "kernelspec": {
   "display_name": "Python 3",
   "language": "python",
   "name": "python3"
  },
  "language_info": {
   "codemirror_mode": {
    "name": "ipython",
    "version": 3
   },
   "file_extension": ".py",
   "mimetype": "text/x-python",
   "name": "python",
   "nbconvert_exporter": "python",
   "pygments_lexer": "ipython3",
   "version": "3.12.3"
  }
 },
 "nbformat": 4,
 "nbformat_minor": 2
}
