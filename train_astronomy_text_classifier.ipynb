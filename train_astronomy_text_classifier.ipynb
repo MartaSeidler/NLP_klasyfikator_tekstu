{
 "cells": [
  {
   "cell_type": "markdown",
   "metadata": {},
   "source": [
    "Importing libraries:\n",
    "- os - for reading and saving files\n",
    "- pandas - for working with dataset\n",
    "- scikit-learn - for machine learning\n",
    "- string - for removing punctuation\n",
    "- joblib - for saving model and vectorizer"
   ]
  },
  {
   "cell_type": "code",
   "execution_count": 1,
   "metadata": {},
   "outputs": [],
   "source": [
    "import os \n",
    "import pandas as pd\n",
    "from sklearn.feature_extraction.text import TfidfVectorizer \n",
    "from sklearn.model_selection import train_test_split\n",
    "from sklearn.linear_model import LogisticRegression\n",
    "from sklearn.naive_bayes import MultinomialNB\n",
    "from sklearn.metrics import accuracy_score, classification_report\n",
    "import string \n",
    "import joblib"
   ]
  },
  {
   "cell_type": "markdown",
   "metadata": {},
   "source": [
    "Reading files from folders \"astronomia\" and \"inne\" and adding labels from folders name."
   ]
  },
  {
   "cell_type": "code",
   "execution_count": 2,
   "metadata": {},
   "outputs": [],
   "source": [
    "def read_files(folder_path, label):\n",
    "    texts = []\n",
    "    for filename in os.listdir(folder_path):\n",
    "        file_path = os.path.join(folder_path, filename)\n",
    "        if os.path.isfile(file_path):\n",
    "            with open(file_path, 'r', encoding='utf-8') as file:\n",
    "                texts.append(file.read())\n",
    "    return texts, [label] * len(texts) \n",
    "\n",
    "astronomy_folder = 'dane/astronomia'\n",
    "others_folder = 'dane/inne'\n",
    "\n",
    "astronomy_texts, astronomy_labels = read_files(astronomy_folder, 'astronomia')\n",
    "others_texts, others_labels = read_files(others_folder, 'inne')"
   ]
  },
  {
   "cell_type": "markdown",
   "metadata": {},
   "source": [
    "Creating DataFrame and .csv file."
   ]
  },
  {
   "cell_type": "code",
   "execution_count": 3,
   "metadata": {},
   "outputs": [
    {
     "name": "stdout",
     "output_type": "stream",
     "text": [
      "Dane zapisane.\n"
     ]
    }
   ],
   "source": [
    "texts = astronomy_texts + others_texts\n",
    "labels = astronomy_labels + others_labels\n",
    "\n",
    "data = {'text': texts, 'label':labels}\n",
    "df = pd.DataFrame(data)\n",
    "\n",
    "df.to_csv('dane_zbiorcze.csv', index=False)\n",
    "print('Dane zapisane.')"
   ]
  },
  {
   "cell_type": "code",
   "execution_count": 4,
   "metadata": {},
   "outputs": [
    {
     "data": {
      "text/html": [
       "<div>\n",
       "<style scoped>\n",
       "    .dataframe tbody tr th:only-of-type {\n",
       "        vertical-align: middle;\n",
       "    }\n",
       "\n",
       "    .dataframe tbody tr th {\n",
       "        vertical-align: top;\n",
       "    }\n",
       "\n",
       "    .dataframe thead th {\n",
       "        text-align: right;\n",
       "    }\n",
       "</style>\n",
       "<table border=\"1\" class=\"dataframe\">\n",
       "  <thead>\n",
       "    <tr style=\"text-align: right;\">\n",
       "      <th></th>\n",
       "      <th>text</th>\n",
       "      <th>label</th>\n",
       "    </tr>\n",
       "  </thead>\n",
       "  <tbody>\n",
       "    <tr>\n",
       "      <th>74</th>\n",
       "      <td>Vindemiatrix (\"Epsilon Virginis\") - trzecia co...</td>\n",
       "      <td>astronomia</td>\n",
       "    </tr>\n",
       "    <tr>\n",
       "      <th>154</th>\n",
       "      <td>Liczba stopni swobody, df (ang. \"degrees of fr...</td>\n",
       "      <td>inne</td>\n",
       "    </tr>\n",
       "    <tr>\n",
       "      <th>56</th>\n",
       "      <td>Herb Singapuru przedstawia tarczę heraldyczną ...</td>\n",
       "      <td>astronomia</td>\n",
       "    </tr>\n",
       "    <tr>\n",
       "      <th>210</th>\n",
       "      <td>William Shakespeare (forma spolszczona: Szeksp...</td>\n",
       "      <td>inne</td>\n",
       "    </tr>\n",
       "    <tr>\n",
       "      <th>15</th>\n",
       "      <td>Obszary H II - obłoki zjonizowanego gazu, głów...</td>\n",
       "      <td>astronomia</td>\n",
       "    </tr>\n",
       "    <tr>\n",
       "      <th>101</th>\n",
       "      <td>Fobos-Grunt (ros. \"Fobos-Grunt\") - rosyjska so...</td>\n",
       "      <td>astronomia</td>\n",
       "    </tr>\n",
       "    <tr>\n",
       "      <th>180</th>\n",
       "      <td>Wygląd i symbolika.\\nFlaga Antyli Holenderskic...</td>\n",
       "      <td>inne</td>\n",
       "    </tr>\n",
       "    <tr>\n",
       "      <th>10</th>\n",
       "      <td>Jednorożec (łac. \"Monoceros\", dop. \"Monoceroti...</td>\n",
       "      <td>astronomia</td>\n",
       "    </tr>\n",
       "    <tr>\n",
       "      <th>71</th>\n",
       "      <td>NGC 4650 A (również PGC 42951) - biegunowa gal...</td>\n",
       "      <td>astronomia</td>\n",
       "    </tr>\n",
       "    <tr>\n",
       "      <th>167</th>\n",
       "      <td>Godło Timoru Wschodniego zostało wprowadzone 1...</td>\n",
       "      <td>inne</td>\n",
       "    </tr>\n",
       "  </tbody>\n",
       "</table>\n",
       "</div>"
      ],
      "text/plain": [
       "                                                  text       label\n",
       "74   Vindemiatrix (\"Epsilon Virginis\") - trzecia co...  astronomia\n",
       "154  Liczba stopni swobody, df (ang. \"degrees of fr...        inne\n",
       "56   Herb Singapuru przedstawia tarczę heraldyczną ...  astronomia\n",
       "210  William Shakespeare (forma spolszczona: Szeksp...        inne\n",
       "15   Obszary H II - obłoki zjonizowanego gazu, głów...  astronomia\n",
       "101  Fobos-Grunt (ros. \"Fobos-Grunt\") - rosyjska so...  astronomia\n",
       "180  Wygląd i symbolika.\\nFlaga Antyli Holenderskic...        inne\n",
       "10   Jednorożec (łac. \"Monoceros\", dop. \"Monoceroti...  astronomia\n",
       "71   NGC 4650 A (również PGC 42951) - biegunowa gal...  astronomia\n",
       "167  Godło Timoru Wschodniego zostało wprowadzone 1...        inne"
      ]
     },
     "execution_count": 4,
     "metadata": {},
     "output_type": "execute_result"
    }
   ],
   "source": [
    "df.sample(10)"
   ]
  },
  {
   "cell_type": "markdown",
   "metadata": {},
   "source": [
    "Cleaning texts from punctuation, polish stopwords and capital letters."
   ]
  },
  {
   "cell_type": "code",
   "execution_count": 5,
   "metadata": {},
   "outputs": [],
   "source": [
    "def load_stopwords(file_path):\n",
    "    with open(file_path, 'r', encoding='utf-8') as file:\n",
    "        stopwords = file.read().splitlines()\n",
    "    return set(stopwords)\n",
    "\n",
    "stopwords_file = 'polish_stopwords.txt'\n",
    "\n",
    "polish_stopwords = load_stopwords(stopwords_file)\n",
    "\n",
    "def preprocess_text(text):\n",
    "    text = text.lower()\n",
    "    text = ''.join([char for char in text if char not in string.punctuation])\n",
    "    words = text.split()\n",
    "    words = [word for word in words if word not in polish_stopwords]\n",
    "    return ' '.join(words)\n",
    "\n",
    "df['text'] = df['text'].apply(preprocess_text)"
   ]
  },
  {
   "cell_type": "code",
   "execution_count": 6,
   "metadata": {},
   "outputs": [
    {
     "data": {
      "text/html": [
       "<div>\n",
       "<style scoped>\n",
       "    .dataframe tbody tr th:only-of-type {\n",
       "        vertical-align: middle;\n",
       "    }\n",
       "\n",
       "    .dataframe tbody tr th {\n",
       "        vertical-align: top;\n",
       "    }\n",
       "\n",
       "    .dataframe thead th {\n",
       "        text-align: right;\n",
       "    }\n",
       "</style>\n",
       "<table border=\"1\" class=\"dataframe\">\n",
       "  <thead>\n",
       "    <tr style=\"text-align: right;\">\n",
       "      <th></th>\n",
       "      <th>text</th>\n",
       "      <th>label</th>\n",
       "    </tr>\n",
       "  </thead>\n",
       "  <tbody>\n",
       "    <tr>\n",
       "      <th>139</th>\n",
       "      <td>obserwatorium wiedeńskie obserwatorium astrono...</td>\n",
       "      <td>astronomia</td>\n",
       "    </tr>\n",
       "    <tr>\n",
       "      <th>208</th>\n",
       "      <td>dramat satyrowy – starożytna grecka odmiana ko...</td>\n",
       "      <td>inne</td>\n",
       "    </tr>\n",
       "    <tr>\n",
       "      <th>47</th>\n",
       "      <td>sts41c ang space transportation system piąta m...</td>\n",
       "      <td>astronomia</td>\n",
       "    </tr>\n",
       "    <tr>\n",
       "      <th>17</th>\n",
       "      <td>kepler80 gwiazda położona gwiazdozbiorze łabęd...</td>\n",
       "      <td>astronomia</td>\n",
       "    </tr>\n",
       "    <tr>\n",
       "      <th>105</th>\n",
       "      <td>obserwatorium astronomicznometeorologiczne mar...</td>\n",
       "      <td>astronomia</td>\n",
       "    </tr>\n",
       "  </tbody>\n",
       "</table>\n",
       "</div>"
      ],
      "text/plain": [
       "                                                  text       label\n",
       "139  obserwatorium wiedeńskie obserwatorium astrono...  astronomia\n",
       "208  dramat satyrowy – starożytna grecka odmiana ko...        inne\n",
       "47   sts41c ang space transportation system piąta m...  astronomia\n",
       "17   kepler80 gwiazda położona gwiazdozbiorze łabęd...  astronomia\n",
       "105  obserwatorium astronomicznometeorologiczne mar...  astronomia"
      ]
     },
     "execution_count": 6,
     "metadata": {},
     "output_type": "execute_result"
    }
   ],
   "source": [
    "df.sample(5)"
   ]
  },
  {
   "cell_type": "markdown",
   "metadata": {},
   "source": [
    "Splitting data into training and testing."
   ]
  },
  {
   "cell_type": "code",
   "execution_count": 7,
   "metadata": {},
   "outputs": [],
   "source": [
    "X_train, X_test, y_train, y_test = train_test_split(df['text'], df['label'], test_size=0.2, random_state=42)"
   ]
  },
  {
   "cell_type": "code",
   "execution_count": 8,
   "metadata": {},
   "outputs": [
    {
     "name": "stdout",
     "output_type": "stream",
     "text": [
      "X_train shape:  (224,)\n",
      "X_test shape:  (56,)\n",
      "y_train shape:  (224,)\n",
      "y_test shape:  (56,)\n"
     ]
    }
   ],
   "source": [
    "print(\"X_train shape: \", X_train.shape)\n",
    "print(\"X_test shape: \", X_test.shape)\n",
    "print(\"y_train shape: \", y_train.shape)\n",
    "print(\"y_test shape: \", y_test.shape)"
   ]
  },
  {
   "cell_type": "markdown",
   "metadata": {},
   "source": [
    "Vectorizing the data."
   ]
  },
  {
   "cell_type": "code",
   "execution_count": 9,
   "metadata": {},
   "outputs": [],
   "source": [
    "vectorizer = TfidfVectorizer()\n",
    "X_train_vec = vectorizer.fit_transform(X_train)\n",
    "X_test_vec = vectorizer.transform(X_test)"
   ]
  },
  {
   "cell_type": "markdown",
   "metadata": {},
   "source": [
    "Training Naive Bayes model and making prediction. Evaluating the model."
   ]
  },
  {
   "cell_type": "code",
   "execution_count": 10,
   "metadata": {},
   "outputs": [
    {
     "name": "stdout",
     "output_type": "stream",
     "text": [
      "NB Accuracy: 0.8214285714285714\n",
      "NB Classification Report:\n",
      "               precision    recall  f1-score   support\n",
      "\n",
      "  astronomia       0.75      0.96      0.84        28\n",
      "        inne       0.95      0.68      0.79        28\n",
      "\n",
      "    accuracy                           0.82        56\n",
      "   macro avg       0.85      0.82      0.82        56\n",
      "weighted avg       0.85      0.82      0.82        56\n",
      "\n"
     ]
    }
   ],
   "source": [
    "model_NB = MultinomialNB()\n",
    "model_NB.fit(X_train_vec, y_train)\n",
    "\n",
    "y_pred_NB = model_NB.predict(X_test_vec)\n",
    "print('NB Accuracy:', accuracy_score(y_test, y_pred_NB))\n",
    "print('NB Classification Report:\\n', classification_report(y_test, y_pred_NB))"
   ]
  },
  {
   "cell_type": "markdown",
   "metadata": {},
   "source": [
    "Training Logistic Regression model and making prediction. Evaluating the model."
   ]
  },
  {
   "cell_type": "code",
   "execution_count": 11,
   "metadata": {},
   "outputs": [
    {
     "name": "stdout",
     "output_type": "stream",
     "text": [
      "LR Accuracy: 0.9464285714285714\n",
      "LR Classification Report:\n",
      "               precision    recall  f1-score   support\n",
      "\n",
      "  astronomia       1.00      0.89      0.94        28\n",
      "        inne       0.90      1.00      0.95        28\n",
      "\n",
      "    accuracy                           0.95        56\n",
      "   macro avg       0.95      0.95      0.95        56\n",
      "weighted avg       0.95      0.95      0.95        56\n",
      "\n"
     ]
    }
   ],
   "source": [
    "model_LR = LogisticRegression()\n",
    "model_LR.fit(X_train_vec, y_train)\n",
    "\n",
    "y_pred_LR = model_LR.predict(X_test_vec)\n",
    "print('LR Accuracy:', accuracy_score(y_test, y_pred_LR))\n",
    "print('LR Classification Report:\\n', classification_report(y_test, y_pred_LR))"
   ]
  },
  {
   "cell_type": "markdown",
   "metadata": {},
   "source": [
    "The Logistic Regression model made predictions better."
   ]
  },
  {
   "cell_type": "code",
   "execution_count": 12,
   "metadata": {},
   "outputs": [
    {
     "data": {
      "text/plain": [
       "array(['astronomia', 'astronomia', 'inne', 'inne', 'inne'], dtype=object)"
      ]
     },
     "execution_count": 12,
     "metadata": {},
     "output_type": "execute_result"
    }
   ],
   "source": [
    "y_pred_LR[0:5]"
   ]
  },
  {
   "cell_type": "code",
   "execution_count": 13,
   "metadata": {},
   "outputs": [
    {
     "data": {
      "text/plain": [
       "33     korona południowa łac corona australis dop cor...\n",
       "108    planetozymal planetezymal małe ciało niebieski...\n",
       "240    mykoryza12 mikoryza345a mycorrhiza – powszechn...\n",
       "259    hollywood boulevard – ulica hollywood los ange...\n",
       "154    liczba stopni swobody df ang degrees of freedo...\n",
       "Name: text, dtype: object"
      ]
     },
     "execution_count": 13,
     "metadata": {},
     "output_type": "execute_result"
    }
   ],
   "source": [
    "X_test.head()"
   ]
  },
  {
   "cell_type": "markdown",
   "metadata": {},
   "source": [
    "Saving vectorizer and model."
   ]
  },
  {
   "cell_type": "code",
   "execution_count": 14,
   "metadata": {},
   "outputs": [
    {
     "name": "stdout",
     "output_type": "stream",
     "text": [
      "Pliki zostały zapisane.\n"
     ]
    }
   ],
   "source": [
    "joblib.dump(vectorizer, 'tfidf_vectorizer.pkl')\n",
    "joblib.dump(model_LR, 'logistic_regression_model.pkl')\n",
    "\n",
    "print('Pliki zostały zapisane.')"
   ]
  },
  {
   "cell_type": "markdown",
   "metadata": {},
   "source": [
    "Validating the model on new data from other sources than \"wikipedia.pl\"."
   ]
  },
  {
   "cell_type": "code",
   "execution_count": 26,
   "metadata": {},
   "outputs": [
    {
     "data": {
      "text/html": [
       "<div>\n",
       "<style scoped>\n",
       "    .dataframe tbody tr th:only-of-type {\n",
       "        vertical-align: middle;\n",
       "    }\n",
       "\n",
       "    .dataframe tbody tr th {\n",
       "        vertical-align: top;\n",
       "    }\n",
       "\n",
       "    .dataframe thead th {\n",
       "        text-align: right;\n",
       "    }\n",
       "</style>\n",
       "<table border=\"1\" class=\"dataframe\">\n",
       "  <thead>\n",
       "    <tr style=\"text-align: right;\">\n",
       "      <th></th>\n",
       "      <th>text</th>\n",
       "      <th>label</th>\n",
       "    </tr>\n",
       "  </thead>\n",
       "  <tbody>\n",
       "    <tr>\n",
       "      <th>0</th>\n",
       "      <td>1992 astronomowie podejrzewali posiadali jedno...</td>\n",
       "      <td>astronomia</td>\n",
       "    </tr>\n",
       "    <tr>\n",
       "      <th>1</th>\n",
       "      <td>1000 puzzle delle formiche „mrówkowe” obrazek ...</td>\n",
       "      <td>inne</td>\n",
       "    </tr>\n",
       "    <tr>\n",
       "      <th>2</th>\n",
       "      <td>c2020 f3 neowise – kometa długookresowa odkryt...</td>\n",
       "      <td>astronomia</td>\n",
       "    </tr>\n",
       "    <tr>\n",
       "      <th>3</th>\n",
       "      <td>planety powinny fotografowanie możliwie najwyż...</td>\n",
       "      <td>astronomia</td>\n",
       "    </tr>\n",
       "    <tr>\n",
       "      <th>4</th>\n",
       "      <td>niewidoma marielaure mieszka paryżu okolicy mu...</td>\n",
       "      <td>inne</td>\n",
       "    </tr>\n",
       "  </tbody>\n",
       "</table>\n",
       "</div>"
      ],
      "text/plain": [
       "                                                text       label\n",
       "0  1992 astronomowie podejrzewali posiadali jedno...  astronomia\n",
       "1  1000 puzzle delle formiche „mrówkowe” obrazek ...        inne\n",
       "2  c2020 f3 neowise – kometa długookresowa odkryt...  astronomia\n",
       "3  planety powinny fotografowanie możliwie najwyż...  astronomia\n",
       "4  niewidoma marielaure mieszka paryżu okolicy mu...        inne"
      ]
     },
     "execution_count": 26,
     "metadata": {},
     "output_type": "execute_result"
    }
   ],
   "source": [
    "val_df = pd.read_csv('dane_walidacyjne.csv', encoding='utf-8', sep=';')\n",
    "val_df_clean = val_df.copy()\n",
    "val_df_clean['text'] = val_df['text'].apply(preprocess_text)\n",
    "val_df_clean.head()"
   ]
  },
  {
   "cell_type": "code",
   "execution_count": 27,
   "metadata": {},
   "outputs": [
    {
     "data": {
      "text/plain": [
       "(20, 2)"
      ]
     },
     "execution_count": 27,
     "metadata": {},
     "output_type": "execute_result"
    }
   ],
   "source": [
    "val_df_clean.shape"
   ]
  },
  {
   "cell_type": "code",
   "execution_count": 28,
   "metadata": {},
   "outputs": [
    {
     "name": "stdout",
     "output_type": "stream",
     "text": [
      "LR Accuracy: 0.7\n",
      "LR Classification Report:\n",
      "               precision    recall  f1-score   support\n",
      "\n",
      "  astronomia       1.00      0.40      0.57        10\n",
      "        inne       0.62      1.00      0.77        10\n",
      "\n",
      "    accuracy                           0.70        20\n",
      "   macro avg       0.81      0.70      0.67        20\n",
      "weighted avg       0.81      0.70      0.67        20\n",
      "\n"
     ]
    }
   ],
   "source": [
    "X_val = val_df_clean['text']\n",
    "y_val = val_df_clean['label']\n",
    "X_val_vec = vectorizer.transform(X_val)\n",
    "\n",
    "y_val_pred_LR = model_LR.predict(X_val_vec)\n",
    "print('LR Accuracy:', accuracy_score(y_val, y_val_pred_LR))\n",
    "print('LR Classification Report:\\n', classification_report(y_val, y_val_pred_LR))"
   ]
  },
  {
   "cell_type": "code",
   "execution_count": 31,
   "metadata": {},
   "outputs": [
    {
     "data": {
      "text/html": [
       "<div>\n",
       "<style scoped>\n",
       "    .dataframe tbody tr th:only-of-type {\n",
       "        vertical-align: middle;\n",
       "    }\n",
       "\n",
       "    .dataframe tbody tr th {\n",
       "        vertical-align: top;\n",
       "    }\n",
       "\n",
       "    .dataframe thead th {\n",
       "        text-align: right;\n",
       "    }\n",
       "</style>\n",
       "<table border=\"1\" class=\"dataframe\">\n",
       "  <thead>\n",
       "    <tr style=\"text-align: right;\">\n",
       "      <th></th>\n",
       "      <th>text</th>\n",
       "      <th>label</th>\n",
       "      <th>predicted_label</th>\n",
       "    </tr>\n",
       "  </thead>\n",
       "  <tbody>\n",
       "    <tr>\n",
       "      <th>0</th>\n",
       "      <td>Do roku 1992 astronomowie podejrzewali, ale ni...</td>\n",
       "      <td>astronomia</td>\n",
       "      <td>astronomia</td>\n",
       "    </tr>\n",
       "    <tr>\n",
       "      <th>1</th>\n",
       "      <td>1000 Puzzle delle Formiche czyli „mrówkowe” Ob...</td>\n",
       "      <td>inne</td>\n",
       "      <td>inne</td>\n",
       "    </tr>\n",
       "    <tr>\n",
       "      <th>2</th>\n",
       "      <td>C/2020 F3 (NEOWISE) – kometa długookresowa, od...</td>\n",
       "      <td>astronomia</td>\n",
       "      <td>astronomia</td>\n",
       "    </tr>\n",
       "    <tr>\n",
       "      <th>3</th>\n",
       "      <td>Planety powinny być fotografowanie możliwie ja...</td>\n",
       "      <td>astronomia</td>\n",
       "      <td>inne</td>\n",
       "    </tr>\n",
       "    <tr>\n",
       "      <th>4</th>\n",
       "      <td>Niewidoma Marie-Laure mieszka w Paryżu w okoli...</td>\n",
       "      <td>inne</td>\n",
       "      <td>inne</td>\n",
       "    </tr>\n",
       "    <tr>\n",
       "      <th>5</th>\n",
       "      <td>Bieszczady miały być dla Wiktora Forsta azylem...</td>\n",
       "      <td>inne</td>\n",
       "      <td>inne</td>\n",
       "    </tr>\n",
       "    <tr>\n",
       "      <th>6</th>\n",
       "      <td>Nowa gazetka już dostępna!\\nZ radością informu...</td>\n",
       "      <td>inne</td>\n",
       "      <td>inne</td>\n",
       "    </tr>\n",
       "    <tr>\n",
       "      <th>7</th>\n",
       "      <td>Nie każdy może lub chce zabrać swój teleskop i...</td>\n",
       "      <td>astronomia</td>\n",
       "      <td>inne</td>\n",
       "    </tr>\n",
       "    <tr>\n",
       "      <th>8</th>\n",
       "      <td>Księżyc w fazie 3 doby i 7 godzin po nowiu. Ba...</td>\n",
       "      <td>astronomia</td>\n",
       "      <td>inne</td>\n",
       "    </tr>\n",
       "    <tr>\n",
       "      <th>9</th>\n",
       "      <td>Wentworth 1000 „Soulmates”\\nPrzecudowne puzzle...</td>\n",
       "      <td>inne</td>\n",
       "      <td>inne</td>\n",
       "    </tr>\n",
       "    <tr>\n",
       "      <th>10</th>\n",
       "      <td>UWAGA! Dziś również widzimy się na żywo! Okien...</td>\n",
       "      <td>astronomia</td>\n",
       "      <td>inne</td>\n",
       "    </tr>\n",
       "    <tr>\n",
       "      <th>11</th>\n",
       "      <td>Dzisiaj wyszedłem sobie na dwór po powrocie do...</td>\n",
       "      <td>astronomia</td>\n",
       "      <td>astronomia</td>\n",
       "    </tr>\n",
       "    <tr>\n",
       "      <th>12</th>\n",
       "      <td>M17 - obiekt znany, oklepany, nie będę powiela...</td>\n",
       "      <td>astronomia</td>\n",
       "      <td>inne</td>\n",
       "    </tr>\n",
       "    <tr>\n",
       "      <th>13</th>\n",
       "      <td>Ustawa o ochronie sygnalistów ma wdrażać do po...</td>\n",
       "      <td>inne</td>\n",
       "      <td>inne</td>\n",
       "    </tr>\n",
       "    <tr>\n",
       "      <th>14</th>\n",
       "      <td>Dzięki systemowi SteamCare ubrania wyjęte z bę...</td>\n",
       "      <td>inne</td>\n",
       "      <td>inne</td>\n",
       "    </tr>\n",
       "    <tr>\n",
       "      <th>15</th>\n",
       "      <td>Poza obiektami należącymi do naszego Układu Sł...</td>\n",
       "      <td>astronomia</td>\n",
       "      <td>astronomia</td>\n",
       "    </tr>\n",
       "    <tr>\n",
       "      <th>16</th>\n",
       "      <td>Jeśli zastanawiasz się jaką deskorolkę wybrać ...</td>\n",
       "      <td>inne</td>\n",
       "      <td>inne</td>\n",
       "    </tr>\n",
       "    <tr>\n",
       "      <th>17</th>\n",
       "      <td>Podczas wywiadu z prof. Szymonem Kozłowskim na...</td>\n",
       "      <td>astronomia</td>\n",
       "      <td>inne</td>\n",
       "    </tr>\n",
       "    <tr>\n",
       "      <th>18</th>\n",
       "      <td>DREAMIES to pysznie chrupiące przysmaki z krem...</td>\n",
       "      <td>inne</td>\n",
       "      <td>inne</td>\n",
       "    </tr>\n",
       "    <tr>\n",
       "      <th>19</th>\n",
       "      <td>Biurko gamingowe MAD DOG GD120L to mebel stwor...</td>\n",
       "      <td>inne</td>\n",
       "      <td>inne</td>\n",
       "    </tr>\n",
       "  </tbody>\n",
       "</table>\n",
       "</div>"
      ],
      "text/plain": [
       "                                                 text       label  \\\n",
       "0   Do roku 1992 astronomowie podejrzewali, ale ni...  astronomia   \n",
       "1   1000 Puzzle delle Formiche czyli „mrówkowe” Ob...        inne   \n",
       "2   C/2020 F3 (NEOWISE) – kometa długookresowa, od...  astronomia   \n",
       "3   Planety powinny być fotografowanie możliwie ja...  astronomia   \n",
       "4   Niewidoma Marie-Laure mieszka w Paryżu w okoli...        inne   \n",
       "5   Bieszczady miały być dla Wiktora Forsta azylem...        inne   \n",
       "6   Nowa gazetka już dostępna!\\nZ radością informu...        inne   \n",
       "7   Nie każdy może lub chce zabrać swój teleskop i...  astronomia   \n",
       "8   Księżyc w fazie 3 doby i 7 godzin po nowiu. Ba...  astronomia   \n",
       "9   Wentworth 1000 „Soulmates”\\nPrzecudowne puzzle...        inne   \n",
       "10  UWAGA! Dziś również widzimy się na żywo! Okien...  astronomia   \n",
       "11  Dzisiaj wyszedłem sobie na dwór po powrocie do...  astronomia   \n",
       "12  M17 - obiekt znany, oklepany, nie będę powiela...  astronomia   \n",
       "13  Ustawa o ochronie sygnalistów ma wdrażać do po...        inne   \n",
       "14  Dzięki systemowi SteamCare ubrania wyjęte z bę...        inne   \n",
       "15  Poza obiektami należącymi do naszego Układu Sł...  astronomia   \n",
       "16  Jeśli zastanawiasz się jaką deskorolkę wybrać ...        inne   \n",
       "17  Podczas wywiadu z prof. Szymonem Kozłowskim na...  astronomia   \n",
       "18  DREAMIES to pysznie chrupiące przysmaki z krem...        inne   \n",
       "19  Biurko gamingowe MAD DOG GD120L to mebel stwor...        inne   \n",
       "\n",
       "   predicted_label  \n",
       "0       astronomia  \n",
       "1             inne  \n",
       "2       astronomia  \n",
       "3             inne  \n",
       "4             inne  \n",
       "5             inne  \n",
       "6             inne  \n",
       "7             inne  \n",
       "8             inne  \n",
       "9             inne  \n",
       "10            inne  \n",
       "11      astronomia  \n",
       "12            inne  \n",
       "13            inne  \n",
       "14            inne  \n",
       "15      astronomia  \n",
       "16            inne  \n",
       "17            inne  \n",
       "18            inne  \n",
       "19            inne  "
      ]
     },
     "execution_count": 31,
     "metadata": {},
     "output_type": "execute_result"
    }
   ],
   "source": [
    "y_val_pred_df = pd.DataFrame(y_val_pred_LR, columns=['predicted_label'])\n",
    "val_pred_df = pd.concat([val_df['text'], val_df['label'], y_val_pred_df], axis=1)\n",
    "val_pred_df"
   ]
  },
  {
   "cell_type": "markdown",
   "metadata": {},
   "source": [
    "The model cannot predict based on data that has a source other than \"wikipedia.pl\". The set of training data should be increased by data from other sources."
   ]
  }
 ],
 "metadata": {
  "kernelspec": {
   "display_name": "Python 3",
   "language": "python",
   "name": "python3"
  },
  "language_info": {
   "codemirror_mode": {
    "name": "ipython",
    "version": 3
   },
   "file_extension": ".py",
   "mimetype": "text/x-python",
   "name": "python",
   "nbconvert_exporter": "python",
   "pygments_lexer": "ipython3",
   "version": "3.12.3"
  }
 },
 "nbformat": 4,
 "nbformat_minor": 2
}
